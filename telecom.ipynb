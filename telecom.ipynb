{
 "cells": [
  {
   "cell_type": "code",
   "execution_count": 1,
   "metadata": {},
   "outputs": [],
   "source": [
    "import pandas as pd\n",
    "import numpy as np\n",
    "\n",
    "telecom_df = pd.read_excel('CSI_data_set.xlsx', sheet_name='Data set')\n",
    "\n",
    "import matplotlib.pyplot as plt\n",
    "%matplotlib inline\n",
    "import seaborn as sns"
   ]
  },
  {
   "cell_type": "markdown",
   "metadata": {},
   "source": [
    "# Проект Телекома"
   ]
  },
  {
   "cell_type": "markdown",
   "metadata": {},
   "source": [
    "## Постановка задачи и описание данных"
   ]
  },
  {
   "cell_type": "markdown",
   "metadata": {},
   "source": [
    "Таблица telecom_df - содержит в себе анонимные данные о пользователях услуг сотовой связи в США.\n",
    "\n",
    "- `state_type` — Тип штата;\n",
    "- `state` — Штат;\n",
    "- `city` — Город;\n",
    "- `segment_gender` — Пол - (1 - ж; 0 - м);\n",
    "- `age` — Возвраст;\n",
    "- `age_gr_1` — Сегментация по возрасту;\n",
    "- `age_gr_2` — Сегментация по возрасту;\n",
    "- `arpu_segment` — Сегмент по ARPU - (ARPU - average revenue per user);\n",
    "- `bucket_tr` — Сегмент по объему скаченного трафика за месяц, в Mb;\n",
    "- `mb_2g_flg` *—* Флаг - наличие трафика в технологии 2G - (Выпадание в 2G - негативное событие для клиента);\n",
    "- `os_name` *—* Тип операционной системы;\n",
    "- `cpe_type_name` *—* Тип устройства;\n",
    "- `lt_day` *—* Срок жизни в днях - (lt - lifetime);\n",
    "- `base_type` *—* Старый (+12 мес) или новый (менее 12 мес) абонент - (1 - new, 0 - old);\n",
    "- `lt_gr_1` *—* Сегментация по сроку жизни.\n",
    "- `lt_gr_2` *—* Сегментация по сроку жизни.\n",
    "- `csi` *—* Customer satifaction index.\n",
    "- `csi_category` *—* Категория CSI - (1 - очень несчастный, 2 - очень счастливый).\n",
    "- `csi_key` *—* Ключ CSI - (1 - happy, 0 - neutral, -1 - unhappy).\n",
    "\n",
    "В рамках проекта нам нужно:\n",
    "- проверить данные и указать на их проблемы.\n",
    "- проверить дубликаты, пропуски и выбросы в данных.\n",
    "- ответить на поставленные вопросы заказчика."
   ]
  },
  {
   "cell_type": "markdown",
   "metadata": {},
   "source": [
    "## Предобработка  и Исследователький анализ данных"
   ]
  },
  {
   "cell_type": "code",
   "execution_count": 2,
   "metadata": {},
   "outputs": [
    {
     "data": {
      "text/html": [
       "<div>\n",
       "<style scoped>\n",
       "    .dataframe tbody tr th:only-of-type {\n",
       "        vertical-align: middle;\n",
       "    }\n",
       "\n",
       "    .dataframe tbody tr th {\n",
       "        vertical-align: top;\n",
       "    }\n",
       "\n",
       "    .dataframe thead th {\n",
       "        text-align: right;\n",
       "    }\n",
       "</style>\n",
       "<table border=\"1\" class=\"dataframe\">\n",
       "  <thead>\n",
       "    <tr style=\"text-align: right;\">\n",
       "      <th></th>\n",
       "      <th>state_type</th>\n",
       "      <th>state</th>\n",
       "      <th>city</th>\n",
       "      <th>segment_gender</th>\n",
       "      <th>age</th>\n",
       "      <th>age_gr_1</th>\n",
       "      <th>age_gr_2</th>\n",
       "      <th>arpu_segment</th>\n",
       "      <th>bucket_tr</th>\n",
       "      <th>mb_2g_flg</th>\n",
       "      <th>os_name</th>\n",
       "      <th>cpe_type_name</th>\n",
       "      <th>lt_day</th>\n",
       "      <th>base_type</th>\n",
       "      <th>lt_gr_1</th>\n",
       "      <th>lt_gr_2</th>\n",
       "      <th>csi</th>\n",
       "      <th>csi_category</th>\n",
       "      <th>csi_key</th>\n",
       "    </tr>\n",
       "  </thead>\n",
       "  <tbody>\n",
       "    <tr>\n",
       "      <th>79613</th>\n",
       "      <td>NaN</td>\n",
       "      <td>California</td>\n",
       "      <td>Sacramento</td>\n",
       "      <td>0</td>\n",
       "      <td>35</td>\n",
       "      <td>04 35-44</td>\n",
       "      <td>03 21-35</td>\n",
       "      <td>Medium</td>\n",
       "      <td>05 5-10</td>\n",
       "      <td>0</td>\n",
       "      <td>ANDROID</td>\n",
       "      <td>SMARTPHONE</td>\n",
       "      <td>2094</td>\n",
       "      <td>0</td>\n",
       "      <td>08 36+</td>\n",
       "      <td>03 36+</td>\n",
       "      <td>9</td>\n",
       "      <td>happy</td>\n",
       "      <td>1</td>\n",
       "    </tr>\n",
       "    <tr>\n",
       "      <th>192069</th>\n",
       "      <td>NaN</td>\n",
       "      <td>California</td>\n",
       "      <td>Los Angeles</td>\n",
       "      <td>0</td>\n",
       "      <td>33</td>\n",
       "      <td>03 25-34</td>\n",
       "      <td>03 21-35</td>\n",
       "      <td>Medium</td>\n",
       "      <td>05 5-10</td>\n",
       "      <td>0</td>\n",
       "      <td>ANDROID</td>\n",
       "      <td>SMARTPHONE</td>\n",
       "      <td>1312</td>\n",
       "      <td>0</td>\n",
       "      <td>08 36+</td>\n",
       "      <td>03 36+</td>\n",
       "      <td>7</td>\n",
       "      <td>neutral</td>\n",
       "      <td>0</td>\n",
       "    </tr>\n",
       "    <tr>\n",
       "      <th>417441</th>\n",
       "      <td>NaN</td>\n",
       "      <td>California</td>\n",
       "      <td>San Jose</td>\n",
       "      <td>1</td>\n",
       "      <td>39</td>\n",
       "      <td>04 35-44</td>\n",
       "      <td>04 36-45</td>\n",
       "      <td>Low</td>\n",
       "      <td>04 1-5</td>\n",
       "      <td>1</td>\n",
       "      <td>ANDROID</td>\n",
       "      <td>SMARTPHONE</td>\n",
       "      <td>1196</td>\n",
       "      <td>0</td>\n",
       "      <td>08 36+</td>\n",
       "      <td>03 36+</td>\n",
       "      <td>8</td>\n",
       "      <td>neutral</td>\n",
       "      <td>0</td>\n",
       "    </tr>\n",
       "    <tr>\n",
       "      <th>166329</th>\n",
       "      <td>NaN</td>\n",
       "      <td>Oklahoma</td>\n",
       "      <td>Oklahoma City</td>\n",
       "      <td>0</td>\n",
       "      <td>25</td>\n",
       "      <td>03 25-34</td>\n",
       "      <td>03 21-35</td>\n",
       "      <td>High</td>\n",
       "      <td>04 1-5</td>\n",
       "      <td>1</td>\n",
       "      <td>PROPRIETARY</td>\n",
       "      <td>PHONE</td>\n",
       "      <td>282</td>\n",
       "      <td>1</td>\n",
       "      <td>05 7-12</td>\n",
       "      <td>01 до 12</td>\n",
       "      <td>10</td>\n",
       "      <td>happy</td>\n",
       "      <td>1</td>\n",
       "    </tr>\n",
       "    <tr>\n",
       "      <th>272636</th>\n",
       "      <td>NaN</td>\n",
       "      <td>Wisconsin</td>\n",
       "      <td>Milwaukee</td>\n",
       "      <td>1</td>\n",
       "      <td>35</td>\n",
       "      <td>04 35-44</td>\n",
       "      <td>03 21-35</td>\n",
       "      <td>Medium</td>\n",
       "      <td>05 5-10</td>\n",
       "      <td>0</td>\n",
       "      <td>ANDROID</td>\n",
       "      <td>SMARTPHONE</td>\n",
       "      <td>4822</td>\n",
       "      <td>0</td>\n",
       "      <td>08 36+</td>\n",
       "      <td>03 36+</td>\n",
       "      <td>7</td>\n",
       "      <td>neutral</td>\n",
       "      <td>0</td>\n",
       "    </tr>\n",
       "  </tbody>\n",
       "</table>\n",
       "</div>"
      ],
      "text/plain": [
       "        state_type       state           city  segment_gender  age  age_gr_1  \\\n",
       "79613          NaN  California     Sacramento               0   35  04 35-44   \n",
       "192069         NaN  California    Los Angeles               0   33  03 25-34   \n",
       "417441         NaN  California       San Jose               1   39  04 35-44   \n",
       "166329         NaN    Oklahoma  Oklahoma City               0   25  03 25-34   \n",
       "272636         NaN   Wisconsin      Milwaukee               1   35  04 35-44   \n",
       "\n",
       "        age_gr_2 arpu_segment bucket_tr  mb_2g_flg      os_name cpe_type_name  \\\n",
       "79613   03 21-35       Medium   05 5-10          0      ANDROID    SMARTPHONE   \n",
       "192069  03 21-35       Medium   05 5-10          0      ANDROID    SMARTPHONE   \n",
       "417441  04 36-45          Low    04 1-5          1      ANDROID    SMARTPHONE   \n",
       "166329  03 21-35         High    04 1-5          1  PROPRIETARY         PHONE   \n",
       "272636  03 21-35       Medium   05 5-10          0      ANDROID    SMARTPHONE   \n",
       "\n",
       "        lt_day  base_type  lt_gr_1   lt_gr_2  csi csi_category  csi_key  \n",
       "79613     2094          0   08 36+    03 36+    9        happy        1  \n",
       "192069    1312          0   08 36+    03 36+    7      neutral        0  \n",
       "417441    1196          0   08 36+    03 36+    8      neutral        0  \n",
       "166329     282          1  05 7-12  01 до 12   10        happy        1  \n",
       "272636    4822          0   08 36+    03 36+    7      neutral        0  "
      ]
     },
     "execution_count": 2,
     "metadata": {},
     "output_type": "execute_result"
    }
   ],
   "source": [
    "telecom_df.sample(5)"
   ]
  },
  {
   "cell_type": "code",
   "execution_count": 3,
   "metadata": {},
   "outputs": [
    {
     "name": "stdout",
     "output_type": "stream",
     "text": [
      "<class 'pandas.core.frame.DataFrame'>\n",
      "RangeIndex: 502493 entries, 0 to 502492\n",
      "Data columns (total 19 columns):\n",
      " #   Column          Non-Null Count   Dtype  \n",
      "---  ------          --------------   -----  \n",
      " 0   state_type      0 non-null       float64\n",
      " 1   state           502493 non-null  object \n",
      " 2   city            502493 non-null  object \n",
      " 3   segment_gender  502493 non-null  int64  \n",
      " 4   age             502493 non-null  int64  \n",
      " 5   age_gr_1        502493 non-null  object \n",
      " 6   age_gr_2        502493 non-null  object \n",
      " 7   arpu_segment    501747 non-null  object \n",
      " 8   bucket_tr       502493 non-null  object \n",
      " 9   mb_2g_flg       502493 non-null  int64  \n",
      " 10  os_name         502493 non-null  object \n",
      " 11  cpe_type_name   502493 non-null  object \n",
      " 12  lt_day          502493 non-null  int64  \n",
      " 13  base_type       502493 non-null  int64  \n",
      " 14  lt_gr_1         502493 non-null  object \n",
      " 15  lt_gr_2         502493 non-null  object \n",
      " 16  csi             502493 non-null  int64  \n",
      " 17  csi_category    502493 non-null  object \n",
      " 18  csi_key         502493 non-null  int64  \n",
      "dtypes: float64(1), int64(7), object(11)\n",
      "memory usage: 72.8+ MB\n"
     ]
    }
   ],
   "source": [
    "telecom_df.info()"
   ]
  },
  {
   "cell_type": "markdown",
   "metadata": {},
   "source": [
    "Как мы видим, на первый взгляд здесь данные почти полные. В столбце \"Тип штата\" данных вообще нет, но в столбце \"Штаты\" и \"Город\" все данные имеются. В открытых источниках попытался найти значение и список типов штата в США, но не нашёл. Почти везде говорится только о самих штатах и города, поэтому можем удалить этот столбец, так как его потеря никак не повлияет на остальные данные и конечный результат. "
   ]
  },
  {
   "cell_type": "markdown",
   "metadata": {},
   "source": [
    "Используя функцию ниже, посчитаем процент пропущенных значений для всего датасета и отдельно по каждому столбцу."
   ]
  },
  {
   "cell_type": "code",
   "execution_count": 4,
   "metadata": {},
   "outputs": [],
   "source": [
    "def missing_values(data):\n",
    "    report = data.isna().sum().to_frame()\n",
    "    report = report.rename(columns = {0: 'missing_values'})\n",
    "    report['% of total'] = ((report['missing_values'] / data.shape[0]) *100).round(2)\n",
    "    display(report)\n",
    "    total = report['% of total'].mean()\n",
    "    print('Процент пропущенных значений = ', round(total, 3), sep='', end='')"
   ]
  },
  {
   "cell_type": "code",
   "execution_count": 5,
   "metadata": {},
   "outputs": [
    {
     "data": {
      "text/html": [
       "<div>\n",
       "<style scoped>\n",
       "    .dataframe tbody tr th:only-of-type {\n",
       "        vertical-align: middle;\n",
       "    }\n",
       "\n",
       "    .dataframe tbody tr th {\n",
       "        vertical-align: top;\n",
       "    }\n",
       "\n",
       "    .dataframe thead th {\n",
       "        text-align: right;\n",
       "    }\n",
       "</style>\n",
       "<table border=\"1\" class=\"dataframe\">\n",
       "  <thead>\n",
       "    <tr style=\"text-align: right;\">\n",
       "      <th></th>\n",
       "      <th>missing_values</th>\n",
       "      <th>% of total</th>\n",
       "    </tr>\n",
       "  </thead>\n",
       "  <tbody>\n",
       "    <tr>\n",
       "      <th>state_type</th>\n",
       "      <td>502493</td>\n",
       "      <td>100.00</td>\n",
       "    </tr>\n",
       "    <tr>\n",
       "      <th>state</th>\n",
       "      <td>0</td>\n",
       "      <td>0.00</td>\n",
       "    </tr>\n",
       "    <tr>\n",
       "      <th>city</th>\n",
       "      <td>0</td>\n",
       "      <td>0.00</td>\n",
       "    </tr>\n",
       "    <tr>\n",
       "      <th>segment_gender</th>\n",
       "      <td>0</td>\n",
       "      <td>0.00</td>\n",
       "    </tr>\n",
       "    <tr>\n",
       "      <th>age</th>\n",
       "      <td>0</td>\n",
       "      <td>0.00</td>\n",
       "    </tr>\n",
       "    <tr>\n",
       "      <th>age_gr_1</th>\n",
       "      <td>0</td>\n",
       "      <td>0.00</td>\n",
       "    </tr>\n",
       "    <tr>\n",
       "      <th>age_gr_2</th>\n",
       "      <td>0</td>\n",
       "      <td>0.00</td>\n",
       "    </tr>\n",
       "    <tr>\n",
       "      <th>arpu_segment</th>\n",
       "      <td>746</td>\n",
       "      <td>0.15</td>\n",
       "    </tr>\n",
       "    <tr>\n",
       "      <th>bucket_tr</th>\n",
       "      <td>0</td>\n",
       "      <td>0.00</td>\n",
       "    </tr>\n",
       "    <tr>\n",
       "      <th>mb_2g_flg</th>\n",
       "      <td>0</td>\n",
       "      <td>0.00</td>\n",
       "    </tr>\n",
       "    <tr>\n",
       "      <th>os_name</th>\n",
       "      <td>0</td>\n",
       "      <td>0.00</td>\n",
       "    </tr>\n",
       "    <tr>\n",
       "      <th>cpe_type_name</th>\n",
       "      <td>0</td>\n",
       "      <td>0.00</td>\n",
       "    </tr>\n",
       "    <tr>\n",
       "      <th>lt_day</th>\n",
       "      <td>0</td>\n",
       "      <td>0.00</td>\n",
       "    </tr>\n",
       "    <tr>\n",
       "      <th>base_type</th>\n",
       "      <td>0</td>\n",
       "      <td>0.00</td>\n",
       "    </tr>\n",
       "    <tr>\n",
       "      <th>lt_gr_1</th>\n",
       "      <td>0</td>\n",
       "      <td>0.00</td>\n",
       "    </tr>\n",
       "    <tr>\n",
       "      <th>lt_gr_2</th>\n",
       "      <td>0</td>\n",
       "      <td>0.00</td>\n",
       "    </tr>\n",
       "    <tr>\n",
       "      <th>csi</th>\n",
       "      <td>0</td>\n",
       "      <td>0.00</td>\n",
       "    </tr>\n",
       "    <tr>\n",
       "      <th>csi_category</th>\n",
       "      <td>0</td>\n",
       "      <td>0.00</td>\n",
       "    </tr>\n",
       "    <tr>\n",
       "      <th>csi_key</th>\n",
       "      <td>0</td>\n",
       "      <td>0.00</td>\n",
       "    </tr>\n",
       "  </tbody>\n",
       "</table>\n",
       "</div>"
      ],
      "text/plain": [
       "                missing_values  % of total\n",
       "state_type              502493      100.00\n",
       "state                        0        0.00\n",
       "city                         0        0.00\n",
       "segment_gender               0        0.00\n",
       "age                          0        0.00\n",
       "age_gr_1                     0        0.00\n",
       "age_gr_2                     0        0.00\n",
       "arpu_segment               746        0.15\n",
       "bucket_tr                    0        0.00\n",
       "mb_2g_flg                    0        0.00\n",
       "os_name                      0        0.00\n",
       "cpe_type_name                0        0.00\n",
       "lt_day                       0        0.00\n",
       "base_type                    0        0.00\n",
       "lt_gr_1                      0        0.00\n",
       "lt_gr_2                      0        0.00\n",
       "csi                          0        0.00\n",
       "csi_category                 0        0.00\n",
       "csi_key                      0        0.00"
      ]
     },
     "metadata": {},
     "output_type": "display_data"
    },
    {
     "name": "stdout",
     "output_type": "stream",
     "text": [
      "Процент пропущенных значений = 5.271"
     ]
    }
   ],
   "source": [
    "missing_values(telecom_df)"
   ]
  },
  {
   "cell_type": "markdown",
   "metadata": {},
   "source": [
    "С учетом столбца \"Тип штата\", проценты пропущенных значений составляет почти 5.3%. Надо учитывать, что в этом столбце данные полностью отсутствуют. Давайте теперь удалим эту колонку и посчитаем проценты заново."
   ]
  },
  {
   "cell_type": "code",
   "execution_count": 6,
   "metadata": {},
   "outputs": [],
   "source": [
    "telecom_df.drop('state_type', axis=1, inplace=True)"
   ]
  },
  {
   "cell_type": "code",
   "execution_count": 7,
   "metadata": {},
   "outputs": [
    {
     "data": {
      "text/html": [
       "<div>\n",
       "<style scoped>\n",
       "    .dataframe tbody tr th:only-of-type {\n",
       "        vertical-align: middle;\n",
       "    }\n",
       "\n",
       "    .dataframe tbody tr th {\n",
       "        vertical-align: top;\n",
       "    }\n",
       "\n",
       "    .dataframe thead th {\n",
       "        text-align: right;\n",
       "    }\n",
       "</style>\n",
       "<table border=\"1\" class=\"dataframe\">\n",
       "  <thead>\n",
       "    <tr style=\"text-align: right;\">\n",
       "      <th></th>\n",
       "      <th>missing_values</th>\n",
       "      <th>% of total</th>\n",
       "    </tr>\n",
       "  </thead>\n",
       "  <tbody>\n",
       "    <tr>\n",
       "      <th>state</th>\n",
       "      <td>0</td>\n",
       "      <td>0.00</td>\n",
       "    </tr>\n",
       "    <tr>\n",
       "      <th>city</th>\n",
       "      <td>0</td>\n",
       "      <td>0.00</td>\n",
       "    </tr>\n",
       "    <tr>\n",
       "      <th>segment_gender</th>\n",
       "      <td>0</td>\n",
       "      <td>0.00</td>\n",
       "    </tr>\n",
       "    <tr>\n",
       "      <th>age</th>\n",
       "      <td>0</td>\n",
       "      <td>0.00</td>\n",
       "    </tr>\n",
       "    <tr>\n",
       "      <th>age_gr_1</th>\n",
       "      <td>0</td>\n",
       "      <td>0.00</td>\n",
       "    </tr>\n",
       "    <tr>\n",
       "      <th>age_gr_2</th>\n",
       "      <td>0</td>\n",
       "      <td>0.00</td>\n",
       "    </tr>\n",
       "    <tr>\n",
       "      <th>arpu_segment</th>\n",
       "      <td>746</td>\n",
       "      <td>0.15</td>\n",
       "    </tr>\n",
       "    <tr>\n",
       "      <th>bucket_tr</th>\n",
       "      <td>0</td>\n",
       "      <td>0.00</td>\n",
       "    </tr>\n",
       "    <tr>\n",
       "      <th>mb_2g_flg</th>\n",
       "      <td>0</td>\n",
       "      <td>0.00</td>\n",
       "    </tr>\n",
       "    <tr>\n",
       "      <th>os_name</th>\n",
       "      <td>0</td>\n",
       "      <td>0.00</td>\n",
       "    </tr>\n",
       "    <tr>\n",
       "      <th>cpe_type_name</th>\n",
       "      <td>0</td>\n",
       "      <td>0.00</td>\n",
       "    </tr>\n",
       "    <tr>\n",
       "      <th>lt_day</th>\n",
       "      <td>0</td>\n",
       "      <td>0.00</td>\n",
       "    </tr>\n",
       "    <tr>\n",
       "      <th>base_type</th>\n",
       "      <td>0</td>\n",
       "      <td>0.00</td>\n",
       "    </tr>\n",
       "    <tr>\n",
       "      <th>lt_gr_1</th>\n",
       "      <td>0</td>\n",
       "      <td>0.00</td>\n",
       "    </tr>\n",
       "    <tr>\n",
       "      <th>lt_gr_2</th>\n",
       "      <td>0</td>\n",
       "      <td>0.00</td>\n",
       "    </tr>\n",
       "    <tr>\n",
       "      <th>csi</th>\n",
       "      <td>0</td>\n",
       "      <td>0.00</td>\n",
       "    </tr>\n",
       "    <tr>\n",
       "      <th>csi_category</th>\n",
       "      <td>0</td>\n",
       "      <td>0.00</td>\n",
       "    </tr>\n",
       "    <tr>\n",
       "      <th>csi_key</th>\n",
       "      <td>0</td>\n",
       "      <td>0.00</td>\n",
       "    </tr>\n",
       "  </tbody>\n",
       "</table>\n",
       "</div>"
      ],
      "text/plain": [
       "                missing_values  % of total\n",
       "state                        0        0.00\n",
       "city                         0        0.00\n",
       "segment_gender               0        0.00\n",
       "age                          0        0.00\n",
       "age_gr_1                     0        0.00\n",
       "age_gr_2                     0        0.00\n",
       "arpu_segment               746        0.15\n",
       "bucket_tr                    0        0.00\n",
       "mb_2g_flg                    0        0.00\n",
       "os_name                      0        0.00\n",
       "cpe_type_name                0        0.00\n",
       "lt_day                       0        0.00\n",
       "base_type                    0        0.00\n",
       "lt_gr_1                      0        0.00\n",
       "lt_gr_2                      0        0.00\n",
       "csi                          0        0.00\n",
       "csi_category                 0        0.00\n",
       "csi_key                      0        0.00"
      ]
     },
     "metadata": {},
     "output_type": "display_data"
    },
    {
     "name": "stdout",
     "output_type": "stream",
     "text": [
      "Процент пропущенных значений = 0.008"
     ]
    }
   ],
   "source": [
    "missing_values(telecom_df)"
   ]
  },
  {
   "cell_type": "markdown",
   "metadata": {},
   "source": [
    "Теперь процент пропущенных значений 0.008% от всего датасета. Это незначительно и в целом с такими данными можем работать."
   ]
  },
  {
   "cell_type": "markdown",
   "metadata": {},
   "source": [
    "Далее посмотрим на наличие дубликатов. Для поиска будем использовать все столбцы, так как здесь анонимные данные пользователей. Если взять только часть столбцов для фильтра, то мы можем получить большое количество дублей, потому что данные могут быть одинаковыми и здесь нет столбца с уникальными данными. "
   ]
  },
  {
   "cell_type": "code",
   "execution_count": 8,
   "metadata": {},
   "outputs": [
    {
     "data": {
      "text/plain": [
       "204"
      ]
     },
     "execution_count": 8,
     "metadata": {},
     "output_type": "execute_result"
    }
   ],
   "source": [
    "telecom_df.duplicated().sum()"
   ]
  },
  {
   "cell_type": "code",
   "execution_count": 9,
   "metadata": {},
   "outputs": [
    {
     "data": {
      "text/html": [
       "<div>\n",
       "<style scoped>\n",
       "    .dataframe tbody tr th:only-of-type {\n",
       "        vertical-align: middle;\n",
       "    }\n",
       "\n",
       "    .dataframe tbody tr th {\n",
       "        vertical-align: top;\n",
       "    }\n",
       "\n",
       "    .dataframe thead th {\n",
       "        text-align: right;\n",
       "    }\n",
       "</style>\n",
       "<table border=\"1\" class=\"dataframe\">\n",
       "  <thead>\n",
       "    <tr style=\"text-align: right;\">\n",
       "      <th></th>\n",
       "      <th>state</th>\n",
       "      <th>city</th>\n",
       "      <th>segment_gender</th>\n",
       "      <th>age</th>\n",
       "      <th>age_gr_1</th>\n",
       "      <th>age_gr_2</th>\n",
       "      <th>arpu_segment</th>\n",
       "      <th>bucket_tr</th>\n",
       "      <th>mb_2g_flg</th>\n",
       "      <th>os_name</th>\n",
       "      <th>cpe_type_name</th>\n",
       "      <th>lt_day</th>\n",
       "      <th>base_type</th>\n",
       "      <th>lt_gr_1</th>\n",
       "      <th>lt_gr_2</th>\n",
       "      <th>csi</th>\n",
       "      <th>csi_category</th>\n",
       "      <th>csi_key</th>\n",
       "    </tr>\n",
       "  </thead>\n",
       "  <tbody>\n",
       "    <tr>\n",
       "      <th>395442</th>\n",
       "      <td>New York</td>\n",
       "      <td>New York</td>\n",
       "      <td>0</td>\n",
       "      <td>36</td>\n",
       "      <td>04 35-44</td>\n",
       "      <td>04 36-45</td>\n",
       "      <td>Low</td>\n",
       "      <td>04 1-5</td>\n",
       "      <td>0</td>\n",
       "      <td>ANDROID</td>\n",
       "      <td>SMARTPHONE</td>\n",
       "      <td>1760</td>\n",
       "      <td>0</td>\n",
       "      <td>08 36+</td>\n",
       "      <td>03 36+</td>\n",
       "      <td>9</td>\n",
       "      <td>happy</td>\n",
       "      <td>1</td>\n",
       "    </tr>\n",
       "    <tr>\n",
       "      <th>301560</th>\n",
       "      <td>Arizona</td>\n",
       "      <td>Phoenix</td>\n",
       "      <td>0</td>\n",
       "      <td>35</td>\n",
       "      <td>04 35-44</td>\n",
       "      <td>03 21-35</td>\n",
       "      <td>Medium</td>\n",
       "      <td>05 5-10</td>\n",
       "      <td>0</td>\n",
       "      <td>ANDROID</td>\n",
       "      <td>SMARTPHONE</td>\n",
       "      <td>477</td>\n",
       "      <td>0</td>\n",
       "      <td>06 13-24</td>\n",
       "      <td>02 13-36</td>\n",
       "      <td>10</td>\n",
       "      <td>happy</td>\n",
       "      <td>1</td>\n",
       "    </tr>\n",
       "    <tr>\n",
       "      <th>198758</th>\n",
       "      <td>New York</td>\n",
       "      <td>New York</td>\n",
       "      <td>0</td>\n",
       "      <td>54</td>\n",
       "      <td>05 45-54</td>\n",
       "      <td>06 51-55</td>\n",
       "      <td>New</td>\n",
       "      <td>04 1-5</td>\n",
       "      <td>0</td>\n",
       "      <td>ANDROID</td>\n",
       "      <td>SMARTPHONE</td>\n",
       "      <td>58</td>\n",
       "      <td>1</td>\n",
       "      <td>02 2</td>\n",
       "      <td>01 до 12</td>\n",
       "      <td>10</td>\n",
       "      <td>happy</td>\n",
       "      <td>1</td>\n",
       "    </tr>\n",
       "    <tr>\n",
       "      <th>487611</th>\n",
       "      <td>New York</td>\n",
       "      <td>New York</td>\n",
       "      <td>1</td>\n",
       "      <td>40</td>\n",
       "      <td>04 35-44</td>\n",
       "      <td>04 36-45</td>\n",
       "      <td>Medium</td>\n",
       "      <td>06 10-15</td>\n",
       "      <td>0</td>\n",
       "      <td>ANDROID</td>\n",
       "      <td>SMARTPHONE</td>\n",
       "      <td>222</td>\n",
       "      <td>1</td>\n",
       "      <td>05 7-12</td>\n",
       "      <td>01 до 12</td>\n",
       "      <td>10</td>\n",
       "      <td>happy</td>\n",
       "      <td>1</td>\n",
       "    </tr>\n",
       "    <tr>\n",
       "      <th>379588</th>\n",
       "      <td>New York</td>\n",
       "      <td>New York</td>\n",
       "      <td>0</td>\n",
       "      <td>48</td>\n",
       "      <td>05 45-54</td>\n",
       "      <td>05 46-50</td>\n",
       "      <td>Medium</td>\n",
       "      <td>04 1-5</td>\n",
       "      <td>0</td>\n",
       "      <td>ANDROID</td>\n",
       "      <td>SMARTPHONE</td>\n",
       "      <td>296</td>\n",
       "      <td>1</td>\n",
       "      <td>05 7-12</td>\n",
       "      <td>01 до 12</td>\n",
       "      <td>10</td>\n",
       "      <td>happy</td>\n",
       "      <td>1</td>\n",
       "    </tr>\n",
       "  </tbody>\n",
       "</table>\n",
       "</div>"
      ],
      "text/plain": [
       "           state      city  segment_gender  age  age_gr_1  age_gr_2  \\\n",
       "395442  New York  New York               0   36  04 35-44  04 36-45   \n",
       "301560   Arizona   Phoenix               0   35  04 35-44  03 21-35   \n",
       "198758  New York  New York               0   54  05 45-54  06 51-55   \n",
       "487611  New York  New York               1   40  04 35-44  04 36-45   \n",
       "379588  New York  New York               0   48  05 45-54  05 46-50   \n",
       "\n",
       "       arpu_segment bucket_tr  mb_2g_flg  os_name cpe_type_name  lt_day  \\\n",
       "395442          Low    04 1-5          0  ANDROID    SMARTPHONE    1760   \n",
       "301560       Medium   05 5-10          0  ANDROID    SMARTPHONE     477   \n",
       "198758          New    04 1-5          0  ANDROID    SMARTPHONE      58   \n",
       "487611       Medium  06 10-15          0  ANDROID    SMARTPHONE     222   \n",
       "379588       Medium    04 1-5          0  ANDROID    SMARTPHONE     296   \n",
       "\n",
       "        base_type   lt_gr_1   lt_gr_2  csi csi_category  csi_key  \n",
       "395442          0    08 36+    03 36+    9        happy        1  \n",
       "301560          0  06 13-24  02 13-36   10        happy        1  \n",
       "198758          1      02 2  01 до 12   10        happy        1  \n",
       "487611          1   05 7-12  01 до 12   10        happy        1  \n",
       "379588          1   05 7-12  01 до 12   10        happy        1  "
      ]
     },
     "execution_count": 9,
     "metadata": {},
     "output_type": "execute_result"
    }
   ],
   "source": [
    "telecom_df.loc[telecom_df.duplicated()].sample(5)"
   ]
  },
  {
   "cell_type": "code",
   "execution_count": 10,
   "metadata": {},
   "outputs": [
    {
     "data": {
      "text/plain": [
       "0.0004059758046380746"
      ]
     },
     "execution_count": 10,
     "metadata": {},
     "output_type": "execute_result"
    }
   ],
   "source": [
    "(len(telecom_df.loc[telecom_df.duplicated()] * 100))/len(telecom_df)"
   ]
  },
  {
   "cell_type": "markdown",
   "metadata": {},
   "source": [
    "Нашли 204 дублей. Если удалим их, то потеряем 0.0004% от всего датасета и это незначительные потери. Мы вполне можем продолжать работу без дублей и не переживать, что потеряли много данных."
   ]
  },
  {
   "cell_type": "code",
   "execution_count": 11,
   "metadata": {},
   "outputs": [],
   "source": [
    "df_dropped_dup = telecom_df.drop_duplicates()"
   ]
  },
  {
   "cell_type": "code",
   "execution_count": 12,
   "metadata": {},
   "outputs": [
    {
     "data": {
      "text/plain": [
       "0"
      ]
     },
     "execution_count": 12,
     "metadata": {},
     "output_type": "execute_result"
    }
   ],
   "source": [
    "df_dropped_dup.duplicated().sum()"
   ]
  },
  {
   "cell_type": "markdown",
   "metadata": {},
   "source": [
    "Дубли удалили. Теперь детально посмотрим на каждый столбец по отдельности."
   ]
  },
  {
   "cell_type": "code",
   "execution_count": 13,
   "metadata": {},
   "outputs": [
    {
     "name": "stdout",
     "output_type": "stream",
     "text": [
      "<class 'pandas.core.frame.DataFrame'>\n",
      "Int64Index: 502289 entries, 0 to 502492\n",
      "Data columns (total 18 columns):\n",
      " #   Column          Non-Null Count   Dtype \n",
      "---  ------          --------------   ----- \n",
      " 0   state           502289 non-null  object\n",
      " 1   city            502289 non-null  object\n",
      " 2   segment_gender  502289 non-null  int64 \n",
      " 3   age             502289 non-null  int64 \n",
      " 4   age_gr_1        502289 non-null  object\n",
      " 5   age_gr_2        502289 non-null  object\n",
      " 6   arpu_segment    501543 non-null  object\n",
      " 7   bucket_tr       502289 non-null  object\n",
      " 8   mb_2g_flg       502289 non-null  int64 \n",
      " 9   os_name         502289 non-null  object\n",
      " 10  cpe_type_name   502289 non-null  object\n",
      " 11  lt_day          502289 non-null  int64 \n",
      " 12  base_type       502289 non-null  int64 \n",
      " 13  lt_gr_1         502289 non-null  object\n",
      " 14  lt_gr_2         502289 non-null  object\n",
      " 15  csi             502289 non-null  int64 \n",
      " 16  csi_category    502289 non-null  object\n",
      " 17  csi_key         502289 non-null  int64 \n",
      "dtypes: int64(7), object(11)\n",
      "memory usage: 72.8+ MB\n"
     ]
    }
   ],
   "source": [
    "df_dropped_dup.info()"
   ]
  },
  {
   "cell_type": "code",
   "execution_count": 14,
   "metadata": {},
   "outputs": [
    {
     "data": {
      "text/plain": [
       "California        0.187416\n",
       "Texas             0.164553\n",
       "New York          0.131454\n",
       "Illinois          0.052942\n",
       "Arizona           0.051361\n",
       "Pennsylvania      0.046115\n",
       "Florida           0.034775\n",
       "Ohio              0.032471\n",
       "Tennessee         0.027681\n",
       "North Carolina    0.024428\n",
       "Michigan          0.023857\n",
       "Colorado          0.022137\n",
       "Indiana           0.019909\n",
       "Oklahoma          0.016793\n",
       "Missouri          0.014902\n",
       "Maryland          0.012614\n",
       "Massachusetts     0.012566\n",
       "Wisconsin         0.012347\n",
       "Washington        0.011256\n",
       "Columbia          0.010759\n",
       "Nevada            0.010615\n",
       "Oregon            0.010337\n",
       "Kentucky          0.010231\n",
       "Georgia           0.009905\n",
       "New Mexico        0.009853\n",
       "Nebraska          0.009114\n",
       "Virginia          0.008123\n",
       "Minnesota         0.006604\n",
       "Hawaii            0.006534\n",
       "Kansas            0.005788\n",
       "Louisiana         0.002560\n",
       "Name: state, dtype: float64"
      ]
     },
     "execution_count": 14,
     "metadata": {},
     "output_type": "execute_result"
    }
   ],
   "source": [
    "df_dropped_dup['state'].value_counts(normalize=True)"
   ]
  },
  {
   "cell_type": "markdown",
   "metadata": {},
   "source": [
    "Больше всего данных о пользователей представлены из штатов California (почти 19%), Texas (чуть больше 16%) и New York (13%), а меньше всего из Louisiana(0,25%) и Kansas(примерно 0,6%)."
   ]
  },
  {
   "cell_type": "code",
   "execution_count": 15,
   "metadata": {
    "scrolled": true
   },
   "outputs": [
    {
     "data": {
      "text/plain": [
       "Index(['New York', 'Los Angeles', 'Chicago', 'Houston', 'Philadelphia',\n",
       "       'Phoenix', 'San Antonio', 'Dallas', 'San Diego', 'San Jose', 'Detroit',\n",
       "       'San Francisco', 'Jacksonville', 'Indianapolis', 'Austin', 'Columbus',\n",
       "       'Fort Worth', 'Charlotte', 'Memphis', 'Baltimore', 'El Paso', 'Boston',\n",
       "       'Milwaukee', 'Denver', 'Seattle', 'Nashville', 'Washington',\n",
       "       'Las Vegas', 'Portland', 'Louisville', 'Oklahoma City', 'Tucson',\n",
       "       'Atlanta', 'Albuquerque', 'Fresno', 'Sacramento', 'Long Beach', 'Mesa',\n",
       "       'Kansas City', 'Omaha', 'Cleveland', 'Virginia Beach', 'Miami',\n",
       "       'Oakland', 'Raleigh', 'Tulsa', 'Minneapolis', 'Colorado Springs',\n",
       "       'Honolulu', 'Arlington', 'Wichita', 'St. Louis (Saint Louis)', 'Tampa',\n",
       "       'Santa Ana', 'Anaheim', 'Cincinnati', 'Bakersfield', 'Aurora',\n",
       "       'New Orleans', 'Pittsburgh', 'Riverside', 'Toledo'],\n",
       "      dtype='object')"
      ]
     },
     "execution_count": 15,
     "metadata": {},
     "output_type": "execute_result"
    }
   ],
   "source": [
    "df_dropped_dup['city'].value_counts().index"
   ]
  },
  {
   "cell_type": "code",
   "execution_count": 16,
   "metadata": {},
   "outputs": [
    {
     "data": {
      "text/plain": [
       "New York        0.131454\n",
       "Los Angeles     0.058958\n",
       "Chicago         0.052942\n",
       "Houston         0.046402\n",
       "Philadelphia    0.044237\n",
       "                  ...   \n",
       "Aurora          0.004097\n",
       "New Orleans     0.002560\n",
       "Pittsburgh      0.001877\n",
       "Riverside       0.001310\n",
       "Toledo          0.000597\n",
       "Name: city, Length: 62, dtype: float64"
      ]
     },
     "execution_count": 16,
     "metadata": {},
     "output_type": "execute_result"
    }
   ],
   "source": [
    "df_dropped_dup['city'].value_counts(normalize=True)"
   ]
  },
  {
   "cell_type": "markdown",
   "metadata": {},
   "source": [
    "Если посмотреть по городам, то количество данных лидирует у пользователей из New York - 13%. Меньше всего данных из города Toledo - 0,05%."
   ]
  },
  {
   "cell_type": "code",
   "execution_count": 17,
   "metadata": {},
   "outputs": [
    {
     "data": {
      "text/plain": [
       " 1    0.542188\n",
       " 0    0.455222\n",
       "-1    0.002590\n",
       "Name: segment_gender, dtype: float64"
      ]
     },
     "execution_count": 17,
     "metadata": {},
     "output_type": "execute_result"
    }
   ],
   "source": [
    "df_dropped_dup['segment_gender'].value_counts(normalize=True)"
   ]
  },
  {
   "cell_type": "code",
   "execution_count": 18,
   "metadata": {},
   "outputs": [
    {
     "data": {
      "text/plain": [
       " 1    272335\n",
       " 0    228653\n",
       "-1      1301\n",
       "Name: segment_gender, dtype: int64"
      ]
     },
     "execution_count": 18,
     "metadata": {},
     "output_type": "execute_result"
    }
   ],
   "source": [
    "df_dropped_dup['segment_gender'].value_counts()"
   ]
  },
  {
   "cell_type": "markdown",
   "metadata": {},
   "source": [
    "Для столбца пол используются только 2 значения, где 1 - женский пол, а 0 - мужской. В данных видим, что есть ещё значение -1. Оно составляет 0,25% от всех данных. Женского пола больше, чем мужского с соотношением 54,2% на 45,5%.\n",
    "Касательно обозначения -1, можно предположить следующее:\n",
    "- Во время записи данных опечатались и вместо 1 записали, как -1. В таком случае, можно просто убрать минус и учесть все, как женский пол.\n",
    "- Были пользователи, которые не могли определить свой пол в не один из предложенных вариантов, из-за чего при записи использовали иное обозначение. \n",
    "\n",
    "Точные данные неизвестны, а обратиться к поставщику и запросить объяснение нет возможности, поэтому оставим всё, как есть. Обозначение -1 будет учитывать, как \"неизвестный пол\"."
   ]
  },
  {
   "cell_type": "code",
   "execution_count": 19,
   "metadata": {},
   "outputs": [
    {
     "data": {
      "text/plain": [
       "33    0.040319\n",
       "34    0.039860\n",
       "35    0.038950\n",
       "36    0.038506\n",
       "32    0.038096\n",
       "37    0.037540\n",
       "31    0.036067\n",
       "38    0.035499\n",
       "39    0.034132\n",
       "30    0.033823\n",
       "40    0.031850\n",
       "41    0.030954\n",
       "29    0.030737\n",
       "42    0.028934\n",
       "43    0.027606\n",
       "Name: age, dtype: float64"
      ]
     },
     "execution_count": 19,
     "metadata": {},
     "output_type": "execute_result"
    }
   ],
   "source": [
    "df_dropped_dup['age'].value_counts(normalize=True).head(15)"
   ]
  },
  {
   "cell_type": "markdown",
   "metadata": {},
   "source": [
    "Если посмотреть на пользователей по возрастам, то преимущественно пользуются в возрасте от 29 до 41. Теперь посмотрим на всем возврасты пользователей. "
   ]
  },
  {
   "cell_type": "code",
   "execution_count": 20,
   "metadata": {},
   "outputs": [
    {
     "data": {
      "text/plain": [
       "Int64Index([-1, 10, 11, 12, 13, 14, 15, 16, 17, 18, 19, 20, 21, 22, 23, 24, 25,\n",
       "            26, 27, 28, 29, 30, 31, 32, 33, 34, 35, 36, 37, 38, 39, 40, 41, 42,\n",
       "            43, 44, 45, 46, 47, 48, 49, 50, 51, 52, 53, 54, 55, 56, 57, 58, 59,\n",
       "            60, 61, 62, 63, 64, 65, 66, 67, 68, 69, 70, 71, 72, 73, 74, 75, 76,\n",
       "            77, 78, 79, 80, 81, 82, 83, 84, 85, 86, 87, 89],\n",
       "           dtype='int64')"
      ]
     },
     "execution_count": 20,
     "metadata": {},
     "output_type": "execute_result"
    }
   ],
   "source": [
    "df_dropped_dup['age'].value_counts().index.sort_values()"
   ]
  },
  {
   "cell_type": "markdown",
   "metadata": {},
   "source": [
    "Как видим, максимальный возврат пользователей 89 лет, а минимальный 10 лет, если не учитывать аномалиную в -1. Посмотрим на поле, где содержится это значение."
   ]
  },
  {
   "cell_type": "code",
   "execution_count": 21,
   "metadata": {},
   "outputs": [
    {
     "data": {
      "text/html": [
       "<div>\n",
       "<style scoped>\n",
       "    .dataframe tbody tr th:only-of-type {\n",
       "        vertical-align: middle;\n",
       "    }\n",
       "\n",
       "    .dataframe tbody tr th {\n",
       "        vertical-align: top;\n",
       "    }\n",
       "\n",
       "    .dataframe thead th {\n",
       "        text-align: right;\n",
       "    }\n",
       "</style>\n",
       "<table border=\"1\" class=\"dataframe\">\n",
       "  <thead>\n",
       "    <tr style=\"text-align: right;\">\n",
       "      <th></th>\n",
       "      <th>state</th>\n",
       "      <th>city</th>\n",
       "      <th>segment_gender</th>\n",
       "      <th>age</th>\n",
       "      <th>age_gr_1</th>\n",
       "      <th>age_gr_2</th>\n",
       "      <th>arpu_segment</th>\n",
       "      <th>bucket_tr</th>\n",
       "      <th>mb_2g_flg</th>\n",
       "      <th>os_name</th>\n",
       "      <th>cpe_type_name</th>\n",
       "      <th>lt_day</th>\n",
       "      <th>base_type</th>\n",
       "      <th>lt_gr_1</th>\n",
       "      <th>lt_gr_2</th>\n",
       "      <th>csi</th>\n",
       "      <th>csi_category</th>\n",
       "      <th>csi_key</th>\n",
       "    </tr>\n",
       "  </thead>\n",
       "  <tbody>\n",
       "    <tr>\n",
       "      <th>751</th>\n",
       "      <td>Texas</td>\n",
       "      <td>Houston</td>\n",
       "      <td>-1</td>\n",
       "      <td>-1</td>\n",
       "      <td>08 n/a</td>\n",
       "      <td>08 n/a</td>\n",
       "      <td>NaN</td>\n",
       "      <td>04 1-5</td>\n",
       "      <td>0</td>\n",
       "      <td>ANDROID</td>\n",
       "      <td>SMARTPHONE</td>\n",
       "      <td>4055</td>\n",
       "      <td>0</td>\n",
       "      <td>08 36+</td>\n",
       "      <td>03 36+</td>\n",
       "      <td>1</td>\n",
       "      <td>unhappy</td>\n",
       "      <td>-1</td>\n",
       "    </tr>\n",
       "    <tr>\n",
       "      <th>1209</th>\n",
       "      <td>Colorado</td>\n",
       "      <td>Denver</td>\n",
       "      <td>-1</td>\n",
       "      <td>-1</td>\n",
       "      <td>08 n/a</td>\n",
       "      <td>08 n/a</td>\n",
       "      <td>NaN</td>\n",
       "      <td>04 1-5</td>\n",
       "      <td>1</td>\n",
       "      <td>ANDROID</td>\n",
       "      <td>SMARTPHONE</td>\n",
       "      <td>4243</td>\n",
       "      <td>0</td>\n",
       "      <td>08 36+</td>\n",
       "      <td>03 36+</td>\n",
       "      <td>5</td>\n",
       "      <td>unhappy</td>\n",
       "      <td>-1</td>\n",
       "    </tr>\n",
       "    <tr>\n",
       "      <th>1321</th>\n",
       "      <td>Wisconsin</td>\n",
       "      <td>Milwaukee</td>\n",
       "      <td>-1</td>\n",
       "      <td>-1</td>\n",
       "      <td>08 n/a</td>\n",
       "      <td>08 n/a</td>\n",
       "      <td>NaN</td>\n",
       "      <td>06 10-15</td>\n",
       "      <td>1</td>\n",
       "      <td>ANDROID</td>\n",
       "      <td>SMARTPHONE</td>\n",
       "      <td>2354</td>\n",
       "      <td>0</td>\n",
       "      <td>08 36+</td>\n",
       "      <td>03 36+</td>\n",
       "      <td>1</td>\n",
       "      <td>unhappy</td>\n",
       "      <td>-1</td>\n",
       "    </tr>\n",
       "    <tr>\n",
       "      <th>2163</th>\n",
       "      <td>California</td>\n",
       "      <td>San Jose</td>\n",
       "      <td>-1</td>\n",
       "      <td>-1</td>\n",
       "      <td>08 n/a</td>\n",
       "      <td>08 n/a</td>\n",
       "      <td>NaN</td>\n",
       "      <td>04 1-5</td>\n",
       "      <td>0</td>\n",
       "      <td>ANDROID</td>\n",
       "      <td>SMARTPHONE</td>\n",
       "      <td>557</td>\n",
       "      <td>0</td>\n",
       "      <td>06 13-24</td>\n",
       "      <td>02 13-36</td>\n",
       "      <td>3</td>\n",
       "      <td>unhappy</td>\n",
       "      <td>-1</td>\n",
       "    </tr>\n",
       "    <tr>\n",
       "      <th>2667</th>\n",
       "      <td>Texas</td>\n",
       "      <td>Houston</td>\n",
       "      <td>-1</td>\n",
       "      <td>-1</td>\n",
       "      <td>08 n/a</td>\n",
       "      <td>08 n/a</td>\n",
       "      <td>NaN</td>\n",
       "      <td>23 95-100</td>\n",
       "      <td>1</td>\n",
       "      <td>IOS</td>\n",
       "      <td>SMARTPHONE</td>\n",
       "      <td>4705</td>\n",
       "      <td>0</td>\n",
       "      <td>08 36+</td>\n",
       "      <td>03 36+</td>\n",
       "      <td>9</td>\n",
       "      <td>happy</td>\n",
       "      <td>1</td>\n",
       "    </tr>\n",
       "    <tr>\n",
       "      <th>...</th>\n",
       "      <td>...</td>\n",
       "      <td>...</td>\n",
       "      <td>...</td>\n",
       "      <td>...</td>\n",
       "      <td>...</td>\n",
       "      <td>...</td>\n",
       "      <td>...</td>\n",
       "      <td>...</td>\n",
       "      <td>...</td>\n",
       "      <td>...</td>\n",
       "      <td>...</td>\n",
       "      <td>...</td>\n",
       "      <td>...</td>\n",
       "      <td>...</td>\n",
       "      <td>...</td>\n",
       "      <td>...</td>\n",
       "      <td>...</td>\n",
       "      <td>...</td>\n",
       "    </tr>\n",
       "    <tr>\n",
       "      <th>499598</th>\n",
       "      <td>California</td>\n",
       "      <td>Los Angeles</td>\n",
       "      <td>-1</td>\n",
       "      <td>-1</td>\n",
       "      <td>08 n/a</td>\n",
       "      <td>08 n/a</td>\n",
       "      <td>NaN</td>\n",
       "      <td>24 100+</td>\n",
       "      <td>0</td>\n",
       "      <td>ANDROID</td>\n",
       "      <td>SMARTPHONE</td>\n",
       "      <td>520</td>\n",
       "      <td>0</td>\n",
       "      <td>06 13-24</td>\n",
       "      <td>02 13-36</td>\n",
       "      <td>9</td>\n",
       "      <td>happy</td>\n",
       "      <td>1</td>\n",
       "    </tr>\n",
       "    <tr>\n",
       "      <th>500834</th>\n",
       "      <td>Texas</td>\n",
       "      <td>Dallas</td>\n",
       "      <td>0</td>\n",
       "      <td>-1</td>\n",
       "      <td>08 n/a</td>\n",
       "      <td>08 n/a</td>\n",
       "      <td>Medium</td>\n",
       "      <td>03 0.1-1</td>\n",
       "      <td>1</td>\n",
       "      <td>ANDROID</td>\n",
       "      <td>SMARTPHONE</td>\n",
       "      <td>220</td>\n",
       "      <td>1</td>\n",
       "      <td>05 7-12</td>\n",
       "      <td>01 до 12</td>\n",
       "      <td>1</td>\n",
       "      <td>unhappy</td>\n",
       "      <td>-1</td>\n",
       "    </tr>\n",
       "    <tr>\n",
       "      <th>501246</th>\n",
       "      <td>Oregon</td>\n",
       "      <td>Portland</td>\n",
       "      <td>-1</td>\n",
       "      <td>-1</td>\n",
       "      <td>08 n/a</td>\n",
       "      <td>08 n/a</td>\n",
       "      <td>NaN</td>\n",
       "      <td>04 1-5</td>\n",
       "      <td>0</td>\n",
       "      <td>ANDROID</td>\n",
       "      <td>SMARTPHONE</td>\n",
       "      <td>3550</td>\n",
       "      <td>0</td>\n",
       "      <td>08 36+</td>\n",
       "      <td>03 36+</td>\n",
       "      <td>4</td>\n",
       "      <td>unhappy</td>\n",
       "      <td>-1</td>\n",
       "    </tr>\n",
       "    <tr>\n",
       "      <th>502376</th>\n",
       "      <td>New York</td>\n",
       "      <td>New York</td>\n",
       "      <td>0</td>\n",
       "      <td>-1</td>\n",
       "      <td>08 n/a</td>\n",
       "      <td>08 n/a</td>\n",
       "      <td>Medium</td>\n",
       "      <td>04 1-5</td>\n",
       "      <td>0</td>\n",
       "      <td>ANDROID</td>\n",
       "      <td>SMARTPHONE</td>\n",
       "      <td>345</td>\n",
       "      <td>1</td>\n",
       "      <td>05 7-12</td>\n",
       "      <td>01 до 12</td>\n",
       "      <td>5</td>\n",
       "      <td>unhappy</td>\n",
       "      <td>-1</td>\n",
       "    </tr>\n",
       "    <tr>\n",
       "      <th>502455</th>\n",
       "      <td>Ohio</td>\n",
       "      <td>Toledo</td>\n",
       "      <td>-1</td>\n",
       "      <td>-1</td>\n",
       "      <td>08 n/a</td>\n",
       "      <td>08 n/a</td>\n",
       "      <td>NaN</td>\n",
       "      <td>07 15-20</td>\n",
       "      <td>1</td>\n",
       "      <td>ANDROID</td>\n",
       "      <td>SMARTPHONE</td>\n",
       "      <td>268</td>\n",
       "      <td>1</td>\n",
       "      <td>05 7-12</td>\n",
       "      <td>01 до 12</td>\n",
       "      <td>1</td>\n",
       "      <td>unhappy</td>\n",
       "      <td>-1</td>\n",
       "    </tr>\n",
       "  </tbody>\n",
       "</table>\n",
       "<p>554 rows × 18 columns</p>\n",
       "</div>"
      ],
      "text/plain": [
       "             state         city  segment_gender  age age_gr_1 age_gr_2  \\\n",
       "751          Texas      Houston              -1   -1   08 n/a   08 n/a   \n",
       "1209      Colorado       Denver              -1   -1   08 n/a   08 n/a   \n",
       "1321     Wisconsin    Milwaukee              -1   -1   08 n/a   08 n/a   \n",
       "2163    California     San Jose              -1   -1   08 n/a   08 n/a   \n",
       "2667         Texas      Houston              -1   -1   08 n/a   08 n/a   \n",
       "...            ...          ...             ...  ...      ...      ...   \n",
       "499598  California  Los Angeles              -1   -1   08 n/a   08 n/a   \n",
       "500834       Texas       Dallas               0   -1   08 n/a   08 n/a   \n",
       "501246      Oregon     Portland              -1   -1   08 n/a   08 n/a   \n",
       "502376    New York     New York               0   -1   08 n/a   08 n/a   \n",
       "502455        Ohio       Toledo              -1   -1   08 n/a   08 n/a   \n",
       "\n",
       "       arpu_segment  bucket_tr  mb_2g_flg  os_name cpe_type_name  lt_day  \\\n",
       "751             NaN     04 1-5          0  ANDROID    SMARTPHONE    4055   \n",
       "1209            NaN     04 1-5          1  ANDROID    SMARTPHONE    4243   \n",
       "1321            NaN   06 10-15          1  ANDROID    SMARTPHONE    2354   \n",
       "2163            NaN     04 1-5          0  ANDROID    SMARTPHONE     557   \n",
       "2667            NaN  23 95-100          1      IOS    SMARTPHONE    4705   \n",
       "...             ...        ...        ...      ...           ...     ...   \n",
       "499598          NaN    24 100+          0  ANDROID    SMARTPHONE     520   \n",
       "500834       Medium   03 0.1-1          1  ANDROID    SMARTPHONE     220   \n",
       "501246          NaN     04 1-5          0  ANDROID    SMARTPHONE    3550   \n",
       "502376       Medium     04 1-5          0  ANDROID    SMARTPHONE     345   \n",
       "502455          NaN   07 15-20          1  ANDROID    SMARTPHONE     268   \n",
       "\n",
       "        base_type   lt_gr_1   lt_gr_2  csi csi_category  csi_key  \n",
       "751             0    08 36+    03 36+    1      unhappy       -1  \n",
       "1209            0    08 36+    03 36+    5      unhappy       -1  \n",
       "1321            0    08 36+    03 36+    1      unhappy       -1  \n",
       "2163            0  06 13-24  02 13-36    3      unhappy       -1  \n",
       "2667            0    08 36+    03 36+    9        happy        1  \n",
       "...           ...       ...       ...  ...          ...      ...  \n",
       "499598          0  06 13-24  02 13-36    9        happy        1  \n",
       "500834          1   05 7-12  01 до 12    1      unhappy       -1  \n",
       "501246          0    08 36+    03 36+    4      unhappy       -1  \n",
       "502376          1   05 7-12  01 до 12    5      unhappy       -1  \n",
       "502455          1   05 7-12  01 до 12    1      unhappy       -1  \n",
       "\n",
       "[554 rows x 18 columns]"
      ]
     },
     "execution_count": 21,
     "metadata": {},
     "output_type": "execute_result"
    }
   ],
   "source": [
    "df_dropped_dup[df_dropped_dup['age'] == -1]"
   ]
  },
  {
   "cell_type": "markdown",
   "metadata": {},
   "source": [
    "554 строки содержат такое значение. Заметим, что -1 использовался и для столбца \"Пол\". Всё больше сколняюсь к тому, что -1 использовали для обозначения отсутствующих данных. Посмотрим на другие столбцы. Если походу выявим больше подтверждений гипотезе, то -1 можем заменить на NaN, чтобы данные не искажались."
   ]
  },
  {
   "cell_type": "code",
   "execution_count": 22,
   "metadata": {},
   "outputs": [
    {
     "data": {
      "text/plain": [
       "08 n/a         554\n",
       "01 до 16       685\n",
       "07 66 +      13234\n",
       "02 16-24     29953\n",
       "06 55-64     43042\n",
       "05 45-54     94213\n",
       "03 25-34    154761\n",
       "04 35-44    165847\n",
       "Name: age_gr_1, dtype: int64"
      ]
     },
     "execution_count": 22,
     "metadata": {},
     "output_type": "execute_result"
    }
   ],
   "source": [
    "df_dropped_dup['age_gr_1'].value_counts().sort_values()"
   ]
  },
  {
   "cell_type": "code",
   "execution_count": 23,
   "metadata": {},
   "outputs": [
    {
     "data": {
      "text/plain": [
       "08 n/a         554\n",
       "01 до 15       685\n",
       "02 16-20      6925\n",
       "06 51-55     35871\n",
       "07 55 +      50206\n",
       "05 46-50     52041\n",
       "04 36-45    158654\n",
       "03 21-35    197353\n",
       "Name: age_gr_2, dtype: int64"
      ]
     },
     "execution_count": 23,
     "metadata": {},
     "output_type": "execute_result"
    }
   ],
   "source": [
    "df_dropped_dup['age_gr_2'].value_counts().sort_values()"
   ]
  },
  {
   "cell_type": "code",
   "execution_count": 24,
   "metadata": {},
   "outputs": [
    {
     "data": {
      "text/html": [
       "<div>\n",
       "<style scoped>\n",
       "    .dataframe tbody tr th:only-of-type {\n",
       "        vertical-align: middle;\n",
       "    }\n",
       "\n",
       "    .dataframe tbody tr th {\n",
       "        vertical-align: top;\n",
       "    }\n",
       "\n",
       "    .dataframe thead th {\n",
       "        text-align: right;\n",
       "    }\n",
       "</style>\n",
       "<table border=\"1\" class=\"dataframe\">\n",
       "  <thead>\n",
       "    <tr style=\"text-align: right;\">\n",
       "      <th></th>\n",
       "      <th>state</th>\n",
       "      <th>city</th>\n",
       "      <th>segment_gender</th>\n",
       "      <th>age</th>\n",
       "      <th>age_gr_1</th>\n",
       "      <th>age_gr_2</th>\n",
       "      <th>arpu_segment</th>\n",
       "      <th>bucket_tr</th>\n",
       "      <th>mb_2g_flg</th>\n",
       "      <th>os_name</th>\n",
       "      <th>cpe_type_name</th>\n",
       "      <th>lt_day</th>\n",
       "      <th>base_type</th>\n",
       "      <th>lt_gr_1</th>\n",
       "      <th>lt_gr_2</th>\n",
       "      <th>csi</th>\n",
       "      <th>csi_category</th>\n",
       "      <th>csi_key</th>\n",
       "    </tr>\n",
       "  </thead>\n",
       "  <tbody>\n",
       "    <tr>\n",
       "      <th>134</th>\n",
       "      <td>New York</td>\n",
       "      <td>New York</td>\n",
       "      <td>1</td>\n",
       "      <td>17</td>\n",
       "      <td>02 16-24</td>\n",
       "      <td>02 16-20</td>\n",
       "      <td>Low</td>\n",
       "      <td>10 30-35</td>\n",
       "      <td>1</td>\n",
       "      <td>IOS</td>\n",
       "      <td>SMARTPHONE</td>\n",
       "      <td>1652</td>\n",
       "      <td>0</td>\n",
       "      <td>08 36+</td>\n",
       "      <td>03 36+</td>\n",
       "      <td>8</td>\n",
       "      <td>neutral</td>\n",
       "      <td>0</td>\n",
       "    </tr>\n",
       "    <tr>\n",
       "      <th>163</th>\n",
       "      <td>Wisconsin</td>\n",
       "      <td>Milwaukee</td>\n",
       "      <td>1</td>\n",
       "      <td>17</td>\n",
       "      <td>02 16-24</td>\n",
       "      <td>02 16-20</td>\n",
       "      <td>Medium</td>\n",
       "      <td>07 15-20</td>\n",
       "      <td>1</td>\n",
       "      <td>ANDROID</td>\n",
       "      <td>SMARTPHONE</td>\n",
       "      <td>807</td>\n",
       "      <td>0</td>\n",
       "      <td>07 25-36</td>\n",
       "      <td>02 13-36</td>\n",
       "      <td>9</td>\n",
       "      <td>happy</td>\n",
       "      <td>1</td>\n",
       "    </tr>\n",
       "  </tbody>\n",
       "</table>\n",
       "</div>"
      ],
      "text/plain": [
       "         state       city  segment_gender  age  age_gr_1  age_gr_2  \\\n",
       "134   New York   New York               1   17  02 16-24  02 16-20   \n",
       "163  Wisconsin  Milwaukee               1   17  02 16-24  02 16-20   \n",
       "\n",
       "    arpu_segment bucket_tr  mb_2g_flg  os_name cpe_type_name  lt_day  \\\n",
       "134          Low  10 30-35          1      IOS    SMARTPHONE    1652   \n",
       "163       Medium  07 15-20          1  ANDROID    SMARTPHONE     807   \n",
       "\n",
       "     base_type   lt_gr_1   lt_gr_2  csi csi_category  csi_key  \n",
       "134          0    08 36+    03 36+    8      neutral        0  \n",
       "163          0  07 25-36  02 13-36    9        happy        1  "
      ]
     },
     "execution_count": 24,
     "metadata": {},
     "output_type": "execute_result"
    }
   ],
   "source": [
    "df_dropped_dup[df_dropped_dup['age'] == 17].head(2)"
   ]
  },
  {
   "cell_type": "markdown",
   "metadata": {},
   "source": [
    "Сразу рассмотрим два похожих столбца \"Сегментация по возрасту\". Можем сразу заметить, что использовали две разные сегметации по возрасту. Каждый сегмент пронумерован.\n",
    "01 для первой группы - это пользователи до 16 лет.\n",
    "01 для второй группы - пользователи до 15 лет. \n",
    "02 в первой группе 16-24 лет, а для второй 16-20 и т.д. \n",
    "\n",
    "По итогу мы имеем по 7 возрастных сегментов в каждой группе и 8-ой сегмент для пользователей, чей возврат неизвестен.  "
   ]
  },
  {
   "cell_type": "code",
   "execution_count": 25,
   "metadata": {},
   "outputs": [
    {
     "data": {
      "text/plain": [
       "Medium    0.515601\n",
       "High      0.263363\n",
       "Low       0.187783\n",
       "New       0.033253\n",
       "Name: arpu_segment, dtype: float64"
      ]
     },
     "execution_count": 25,
     "metadata": {},
     "output_type": "execute_result"
    }
   ],
   "source": [
    "df_dropped_dup['arpu_segment'].value_counts(normalize=True)"
   ]
  },
  {
   "cell_type": "markdown",
   "metadata": {},
   "source": [
    "Сегмент по ARPU - (ARPU - average revenue per user). Это столбец, где указан средний доход на клиента и он разделен на сегменты. Здесь мы имеем 3 основных сегмента, где больше всего значений: Medium, High, Low, а также отдельно сегмент New - видимо для новых клиентов, по которым ещё неизвестны данные. \n",
    "\n",
    "По этим данным можно сделать вывод, что более 51% клиентов входит в средний сегмент по ARPU, то есть они приносят средний доход, а 26% высокий средний доход и около 19% низкий.\n",
    "\n",
    "Заметка: посмотреть и отсортировать lt_day. Проверить связано количество дней на Сегмент по ARPU."
   ]
  },
  {
   "cell_type": "code",
   "execution_count": 26,
   "metadata": {},
   "outputs": [
    {
     "data": {
      "text/plain": [
       "04 1-5         0.224100\n",
       "05 5-10        0.169046\n",
       "06 10-15       0.116554\n",
       "07 15-20       0.086365\n",
       "08 20-25       0.066420\n",
       "03 0.1-1       0.055301\n",
       "09 25-30       0.051247\n",
       "10 30-35       0.041381\n",
       "11 35-40       0.032557\n",
       "12 40-45       0.026057\n",
       "24 100+        0.022109\n",
       "13 45-50       0.020835\n",
       "14 50-55       0.016692\n",
       "15 55-60       0.013701\n",
       "16 60-65       0.011237\n",
       "17 65-70       0.009291\n",
       "18 70-75       0.007621\n",
       "19 75-80       0.006578\n",
       "20 80-85       0.005600\n",
       "02 0.01-0.1    0.004750\n",
       "21 85-90       0.004631\n",
       "22 90-95       0.004199\n",
       "23 95-100      0.003422\n",
       "01 0-0.01      0.000207\n",
       "01 0           0.000100\n",
       "Name: bucket_tr, dtype: float64"
      ]
     },
     "execution_count": 26,
     "metadata": {},
     "output_type": "execute_result"
    }
   ],
   "source": [
    "df_dropped_dup['bucket_tr'].value_counts(normalize=True)"
   ]
  },
  {
   "cell_type": "markdown",
   "metadata": {},
   "source": [
    "Столбец - \"Сегмент по объему скаченного трафика за месяц, в Mb\". Здесь мы имеем 24 сегмента по объему скаченного трафика в месяц. Данные указаны в мегабайтах. Судя по этим данным, в среднем в месяц большего всего скачивали от 1 до 15 мб."
   ]
  },
  {
   "cell_type": "code",
   "execution_count": 27,
   "metadata": {},
   "outputs": [
    {
     "data": {
      "text/plain": [
       "0    0.543944\n",
       "1    0.456056\n",
       "Name: mb_2g_flg, dtype: float64"
      ]
     },
     "execution_count": 27,
     "metadata": {},
     "output_type": "execute_result"
    }
   ],
   "source": [
    "df_dropped_dup['mb_2g_flg'].value_counts(normalize=True)"
   ]
  },
  {
   "cell_type": "markdown",
   "metadata": {},
   "source": [
    "Флаг - наличие трафика в технологии 2G - (Выпадание в 2G - негативное событие для клиента). 0 - флаг отсутсвует. 1 - флаг присутствует и клиент выпадал в тарфик 2G. 54% пользователей не сталкивались с 2G, а вот почти 46% к сожалению, столкнулись. Возможно это окажется сильное влияет на качество удовлетворенности. Позже проверим эту гипотезу. "
   ]
  },
  {
   "cell_type": "code",
   "execution_count": 28,
   "metadata": {},
   "outputs": [
    {
     "data": {
      "text/plain": [
       "ANDROID           0.867590\n",
       "IOS               0.119547\n",
       "PROPRIETARY       0.004959\n",
       "OTHER             0.004766\n",
       "WINDOWS PHONE     0.002582\n",
       "unknown           0.000265\n",
       "SYMBIAN OS        0.000205\n",
       "BADA OS           0.000080\n",
       "WINDOWS MOBILE    0.000006\n",
       "Name: os_name, dtype: float64"
      ]
     },
     "execution_count": 28,
     "metadata": {},
     "output_type": "execute_result"
    }
   ],
   "source": [
    "df_dropped_dup['os_name'].value_counts(normalize=True)"
   ]
  },
  {
   "cell_type": "markdown",
   "metadata": {},
   "source": [
    "Преимещуственно пользуются ОС Android - 86,7% пользователей. 11,9% - пользуются IOS. Остальные пользуются другими ОС, частными телефонами, а у 0,02% пользователей данные не известны."
   ]
  },
  {
   "cell_type": "code",
   "execution_count": 29,
   "metadata": {},
   "outputs": [
    {
     "data": {
      "text/plain": [
       "SMARTPHONE                    0.971064\n",
       "TABLET                        0.018463\n",
       "PHONE                         0.005039\n",
       "MOBILE PHONE/FEATURE PHONE    0.004919\n",
       "ROUTER                        0.000390\n",
       "USB MODEM                     0.000054\n",
       "unknown                       0.000036\n",
       "MODEM                         0.000014\n",
       "WLAN ROUTER                   0.000006\n",
       "NETWORK DEVICE                0.000006\n",
       "HANDHELD                      0.000002\n",
       "PORTABLE(INCLUDE PDA)         0.000002\n",
       "MOBILE TEST PLATFORM          0.000002\n",
       "MIFI ROUTER                   0.000002\n",
       "Name: cpe_type_name, dtype: float64"
      ]
     },
     "execution_count": 29,
     "metadata": {},
     "output_type": "execute_result"
    }
   ],
   "source": [
    "df_dropped_dup['cpe_type_name'].value_counts(normalize=True)"
   ]
  },
  {
   "cell_type": "markdown",
   "metadata": {},
   "source": [
    "Как и следовало ожидать, подавляющее большинство пользуется смартфонами - 97% пользователей. "
   ]
  },
  {
   "cell_type": "code",
   "execution_count": 30,
   "metadata": {},
   "outputs": [
    {
     "data": {
      "text/plain": [
       "Int64Index([ -21,  -13,  -12,  -11,   -8,   -7,   -6,   -4,   -2,   -1,\n",
       "            ...\n",
       "            7895, 8045, 8150, 8190, 8202, 8385, 8490, 8640, 8828, 9162],\n",
       "           dtype='int64', length=6950)"
      ]
     },
     "execution_count": 30,
     "metadata": {},
     "output_type": "execute_result"
    }
   ],
   "source": [
    "df_dropped_dup['lt_day'].value_counts().index.sort_values()"
   ]
  },
  {
   "cell_type": "markdown",
   "metadata": {},
   "source": [
    "Стобец \"Срок жизни в днях\". Сразу можем заметить отрицательные значения, что конечно некорректно. Возможно произошла ошибка/опечатка, либо здесь снова использовали отрицательные значения для пользователей, по которым данные неизвестны. Посмотрим на процент отрицательных значений. "
   ]
  },
  {
   "cell_type": "code",
   "execution_count": 31,
   "metadata": {},
   "outputs": [
    {
     "data": {
      "text/plain": [
       "13"
      ]
     },
     "execution_count": 31,
     "metadata": {},
     "output_type": "execute_result"
    }
   ],
   "source": [
    "error_r = [-21,  -13,  -12,  -11,   -8,   -7,   -6,   -4,   -2,   -1]\n",
    "count = 0\n",
    "for i in df_dropped_dup['lt_day']:\n",
    "    if i in error_r:\n",
    "        count = count + 1\n",
    "        \n",
    "count"
   ]
  },
  {
   "cell_type": "code",
   "execution_count": 32,
   "metadata": {},
   "outputs": [
    {
     "data": {
      "text/html": [
       "<div>\n",
       "<style scoped>\n",
       "    .dataframe tbody tr th:only-of-type {\n",
       "        vertical-align: middle;\n",
       "    }\n",
       "\n",
       "    .dataframe tbody tr th {\n",
       "        vertical-align: top;\n",
       "    }\n",
       "\n",
       "    .dataframe thead th {\n",
       "        text-align: right;\n",
       "    }\n",
       "</style>\n",
       "<table border=\"1\" class=\"dataframe\">\n",
       "  <thead>\n",
       "    <tr style=\"text-align: right;\">\n",
       "      <th></th>\n",
       "      <th>state</th>\n",
       "      <th>city</th>\n",
       "      <th>segment_gender</th>\n",
       "      <th>age</th>\n",
       "      <th>age_gr_1</th>\n",
       "      <th>age_gr_2</th>\n",
       "      <th>arpu_segment</th>\n",
       "      <th>bucket_tr</th>\n",
       "      <th>mb_2g_flg</th>\n",
       "      <th>os_name</th>\n",
       "      <th>cpe_type_name</th>\n",
       "      <th>lt_day</th>\n",
       "      <th>base_type</th>\n",
       "      <th>lt_gr_1</th>\n",
       "      <th>lt_gr_2</th>\n",
       "      <th>csi</th>\n",
       "      <th>csi_category</th>\n",
       "      <th>csi_key</th>\n",
       "    </tr>\n",
       "  </thead>\n",
       "  <tbody>\n",
       "    <tr>\n",
       "      <th>103223</th>\n",
       "      <td>New York</td>\n",
       "      <td>New York</td>\n",
       "      <td>-1</td>\n",
       "      <td>-1</td>\n",
       "      <td>08 n/a</td>\n",
       "      <td>08 n/a</td>\n",
       "      <td>NaN</td>\n",
       "      <td>04 1-5</td>\n",
       "      <td>0</td>\n",
       "      <td>ANDROID</td>\n",
       "      <td>SMARTPHONE</td>\n",
       "      <td>0</td>\n",
       "      <td>1</td>\n",
       "      <td>01 1</td>\n",
       "      <td>01 до 12</td>\n",
       "      <td>5</td>\n",
       "      <td>unhappy</td>\n",
       "      <td>-1</td>\n",
       "    </tr>\n",
       "    <tr>\n",
       "      <th>284966</th>\n",
       "      <td>Oregon</td>\n",
       "      <td>Portland</td>\n",
       "      <td>0</td>\n",
       "      <td>-1</td>\n",
       "      <td>08 n/a</td>\n",
       "      <td>08 n/a</td>\n",
       "      <td>NaN</td>\n",
       "      <td>06 10-15</td>\n",
       "      <td>1</td>\n",
       "      <td>ANDROID</td>\n",
       "      <td>SMARTPHONE</td>\n",
       "      <td>0</td>\n",
       "      <td>1</td>\n",
       "      <td>01 1</td>\n",
       "      <td>01 до 12</td>\n",
       "      <td>8</td>\n",
       "      <td>neutral</td>\n",
       "      <td>0</td>\n",
       "    </tr>\n",
       "    <tr>\n",
       "      <th>403933</th>\n",
       "      <td>California</td>\n",
       "      <td>Long Beach</td>\n",
       "      <td>1</td>\n",
       "      <td>-1</td>\n",
       "      <td>08 n/a</td>\n",
       "      <td>08 n/a</td>\n",
       "      <td>NaN</td>\n",
       "      <td>05 5-10</td>\n",
       "      <td>0</td>\n",
       "      <td>ANDROID</td>\n",
       "      <td>SMARTPHONE</td>\n",
       "      <td>0</td>\n",
       "      <td>1</td>\n",
       "      <td>01 1</td>\n",
       "      <td>01 до 12</td>\n",
       "      <td>10</td>\n",
       "      <td>happy</td>\n",
       "      <td>1</td>\n",
       "    </tr>\n",
       "    <tr>\n",
       "      <th>480641</th>\n",
       "      <td>Oregon</td>\n",
       "      <td>Portland</td>\n",
       "      <td>-1</td>\n",
       "      <td>-1</td>\n",
       "      <td>08 n/a</td>\n",
       "      <td>08 n/a</td>\n",
       "      <td>NaN</td>\n",
       "      <td>07 15-20</td>\n",
       "      <td>0</td>\n",
       "      <td>IOS</td>\n",
       "      <td>SMARTPHONE</td>\n",
       "      <td>0</td>\n",
       "      <td>1</td>\n",
       "      <td>01 1</td>\n",
       "      <td>01 до 12</td>\n",
       "      <td>9</td>\n",
       "      <td>happy</td>\n",
       "      <td>1</td>\n",
       "    </tr>\n",
       "  </tbody>\n",
       "</table>\n",
       "</div>"
      ],
      "text/plain": [
       "             state        city  segment_gender  age age_gr_1 age_gr_2  \\\n",
       "103223    New York    New York              -1   -1   08 n/a   08 n/a   \n",
       "284966      Oregon    Portland               0   -1   08 n/a   08 n/a   \n",
       "403933  California  Long Beach               1   -1   08 n/a   08 n/a   \n",
       "480641      Oregon    Portland              -1   -1   08 n/a   08 n/a   \n",
       "\n",
       "       arpu_segment bucket_tr  mb_2g_flg  os_name cpe_type_name  lt_day  \\\n",
       "103223          NaN    04 1-5          0  ANDROID    SMARTPHONE       0   \n",
       "284966          NaN  06 10-15          1  ANDROID    SMARTPHONE       0   \n",
       "403933          NaN   05 5-10          0  ANDROID    SMARTPHONE       0   \n",
       "480641          NaN  07 15-20          0      IOS    SMARTPHONE       0   \n",
       "\n",
       "        base_type lt_gr_1   lt_gr_2  csi csi_category  csi_key  \n",
       "103223          1    01 1  01 до 12    5      unhappy       -1  \n",
       "284966          1    01 1  01 до 12    8      neutral        0  \n",
       "403933          1    01 1  01 до 12   10        happy        1  \n",
       "480641          1    01 1  01 до 12    9        happy        1  "
      ]
     },
     "execution_count": 32,
     "metadata": {},
     "output_type": "execute_result"
    }
   ],
   "source": [
    "df_dropped_dup[df_dropped_dup['lt_day'] == 0]"
   ]
  },
  {
   "cell_type": "code",
   "execution_count": 33,
   "metadata": {},
   "outputs": [
    {
     "data": {
      "text/plain": [
       "0.002588151442695341"
      ]
     },
     "execution_count": 33,
     "metadata": {},
     "output_type": "execute_result"
    }
   ],
   "source": [
    "(count * 100)/len(df_dropped_dup)"
   ]
  },
  {
   "cell_type": "markdown",
   "metadata": {},
   "source": [
    "Такие данные составляются 0.002% от всего датасета. В приципе можем их удалить, чтобы они не искажали результаты, так как их объем незначительный, но можно поступить лучше. Скопируем текущий датасет и там удалим все строки, где использовались отрицательные значение, которые нельзя никак интерпретировать. Тогда можем использовать оба датасета для сравнения и анализа разных задач. Сделаем так в конце, когда разберём каждый столбец."
   ]
  },
  {
   "cell_type": "code",
   "execution_count": 34,
   "metadata": {},
   "outputs": [
    {
     "data": {
      "text/plain": [
       "7231    0.000002\n",
       "6645    0.000002\n",
       "6894    0.000002\n",
       "7266    0.000002\n",
       "6901    0.000002\n",
       "          ...   \n",
       "37      0.000878\n",
       "40      0.000886\n",
       "34      0.000890\n",
       "57      0.000962\n",
       "33      0.000987\n",
       "Name: lt_day, Length: 6950, dtype: float64"
      ]
     },
     "execution_count": 34,
     "metadata": {},
     "output_type": "execute_result"
    }
   ],
   "source": [
    "df_dropped_dup['lt_day'].value_counts(normalize=True).sort_values()"
   ]
  },
  {
   "cell_type": "code",
   "execution_count": 35,
   "metadata": {},
   "outputs": [
    {
     "data": {
      "text/plain": [
       "0    0.831032\n",
       "1    0.168968\n",
       "Name: base_type, dtype: float64"
      ]
     },
     "execution_count": 35,
     "metadata": {},
     "output_type": "execute_result"
    }
   ],
   "source": [
    "df_dropped_dup['base_type'].value_counts(normalize=True)"
   ]
  },
  {
   "cell_type": "markdown",
   "metadata": {},
   "source": [
    "В этом столбце указаны 2 вида абонентом: старый (+12 мес) или новый (менее 12 мес) абонент, где 1 - новый и  0 - старый.\n",
    "83% пользователей старые абоненты, а 16,8% новые."
   ]
  },
  {
   "cell_type": "code",
   "execution_count": 36,
   "metadata": {},
   "outputs": [
    {
     "data": {
      "text/plain": [
       "08 36+      0.545994\n",
       "06 13-24    0.163219\n",
       "07 25-36    0.121844\n",
       "05 7-12     0.081567\n",
       "04 4-6      0.044673\n",
       "02 2        0.023928\n",
       "03 3        0.018728\n",
       "01 1        0.000046\n",
       "Name: lt_gr_1, dtype: float64"
      ]
     },
     "execution_count": 36,
     "metadata": {},
     "output_type": "execute_result"
    }
   ],
   "source": [
    "df_dropped_dup['lt_gr_1'].value_counts(normalize=True)"
   ]
  },
  {
   "cell_type": "code",
   "execution_count": 37,
   "metadata": {},
   "outputs": [
    {
     "data": {
      "text/plain": [
       "03 36+      0.545994\n",
       "02 13-36    0.285063\n",
       "01 до 12    0.168943\n",
       "Name: lt_gr_2, dtype: float64"
      ]
     },
     "execution_count": 37,
     "metadata": {},
     "output_type": "execute_result"
    }
   ],
   "source": [
    "df_dropped_dup['lt_gr_2'].value_counts(normalize=True)"
   ]
  },
  {
   "cell_type": "markdown",
   "metadata": {},
   "source": [
    "Сегментация по сроку жизни. Также, как и с возвратом, здесь использовали разные сегменты по сроку жизни пользователей в двух группах. В первой группе 9 сегментов, а в второй всего 3. "
   ]
  },
  {
   "cell_type": "code",
   "execution_count": 38,
   "metadata": {},
   "outputs": [
    {
     "data": {
      "text/plain": [
       "10    0.450709\n",
       "5     0.101832\n",
       "8     0.099204\n",
       "1     0.084408\n",
       "9     0.074684\n",
       "7     0.068743\n",
       "3     0.038342\n",
       "6     0.032911\n",
       "4     0.024647\n",
       "2     0.024520\n",
       "Name: csi, dtype: float64"
      ]
     },
     "execution_count": 38,
     "metadata": {},
     "output_type": "execute_result"
    }
   ],
   "source": [
    "df_dropped_dup['csi'].value_counts(normalize=True)"
   ]
  },
  {
   "cell_type": "markdown",
   "metadata": {},
   "source": [
    "Customer satifaction index - индекс удовлетровненности клиента. Заказчик уже сообщил, что CSI вычисляется путем вычета процента несчастных (критиков) из процента счастливых (промоутеров). Вот формула расчета CSI: CSI = (% happy) – (% unhappy).\n",
    "- Оценка 9-10: Счастливые (Промоутеры): Они любят продукцию вашей компании и, возможно, посоветовали бы ваш бренд потенциальным покупателям. Они всегда совершают повторные покупки и очень ценны для компании.\n",
    "\n",
    "- Оценка 7-8: Нейтралы: Они не распространяют каких-либо негативных отзывов о бренде, но могут легко перейти к другой компании, если найдут предложение получше. Они не говорят ничего плохого о вас, но ваша продукция не нравится им настолько, чтобы кому-то ее советовать.\n",
    "\n",
    "- Оценка 0-6: Несчастные (Критики): Они недовольны вашим сервисом и, вероятно, подрывают репутацию вашего бренда своими негативными отзывами.\n",
    "\n",
    "Видим, что 52,4% счастливые, 16,7% нейтралы и 30,6% несчастные.\n"
   ]
  },
  {
   "cell_type": "code",
   "execution_count": 39,
   "metadata": {},
   "outputs": [
    {
     "data": {
      "text/plain": [
       "happy      0.525393\n",
       "unhappy    0.306660\n",
       "neutral    0.167947\n",
       "Name: csi_category, dtype: float64"
      ]
     },
     "execution_count": 39,
     "metadata": {},
     "output_type": "execute_result"
    }
   ],
   "source": [
    "df_dropped_dup['csi_category'].value_counts(normalize=True)"
   ]
  },
  {
   "cell_type": "markdown",
   "metadata": {},
   "source": [
    "Категория CSI. В этом столбце определили категорию CSI согласно оценкам, которые заказчик сообщил нам ранее. Процентное соотношение счастиливых, нейтральных и несчастливых совпадает с тем, что вы посчитали ранее."
   ]
  },
  {
   "cell_type": "code",
   "execution_count": 40,
   "metadata": {},
   "outputs": [
    {
     "data": {
      "text/plain": [
       " 1    0.525393\n",
       "-1    0.306660\n",
       " 0    0.167947\n",
       "Name: csi_key, dtype: float64"
      ]
     },
     "execution_count": 40,
     "metadata": {},
     "output_type": "execute_result"
    }
   ],
   "source": [
    "df_dropped_dup['csi_key'].value_counts(normalize=True)"
   ]
  },
  {
   "cell_type": "markdown",
   "metadata": {},
   "source": [
    "В этом столбце указаны ключи для определения категории CSI. 1 - happy, 0 - neutral, -1 - unhappy"
   ]
  },
  {
   "cell_type": "markdown",
   "metadata": {},
   "source": [
    "## Базовые задачи"
   ]
  },
  {
   "cell_type": "markdown",
   "metadata": {},
   "source": [
    "### Опишите имеющиеся проблемы в данных"
   ]
  },
  {
   "cell_type": "markdown",
   "metadata": {},
   "source": [
    "### Проверьте дубликаты, пропуски и выбросы в данных"
   ]
  },
  {
   "cell_type": "markdown",
   "metadata": {},
   "source": [
    "С датасете нашли следующие проблемы:\n",
    "1. Полностью утеряны данные в столбце \"Тип штата\".\n",
    "2. Почти 5.3% значений пропущены. Однако, если удалить и не учитывать \"Тип штата\", то пропущенных значений 0.008%.\n",
    "3. В датасете 204 дубликатов. Это примерно 0.0004% от всего датасета. \n",
    "4. В столбце \"Пол\" есть непонятные нам значения \"-1\". Они встречаются в 1301 строках.  Заказчик не сообщил для чего они использовали такое обозначение. Есть гипотеза, что для пользователей, чей пол был неизвестен.\n",
    "5.  В столбце \"Возраст\" тоже встречается значение -1 в 554 строках. \n",
    "6. В столбце \"Срок жизни в днях\" есть отрицательные значения. Их всего 13. Такие данные составляются 0.002% от всего датасета."
   ]
  },
  {
   "cell_type": "code",
   "execution_count": null,
   "metadata": {},
   "outputs": [],
   "source": []
  },
  {
   "cell_type": "code",
   "execution_count": 41,
   "metadata": {},
   "outputs": [
    {
     "data": {
      "text/html": [
       "<div>\n",
       "<style scoped>\n",
       "    .dataframe tbody tr th:only-of-type {\n",
       "        vertical-align: middle;\n",
       "    }\n",
       "\n",
       "    .dataframe tbody tr th {\n",
       "        vertical-align: top;\n",
       "    }\n",
       "\n",
       "    .dataframe thead th {\n",
       "        text-align: right;\n",
       "    }\n",
       "</style>\n",
       "<table border=\"1\" class=\"dataframe\">\n",
       "  <thead>\n",
       "    <tr style=\"text-align: right;\">\n",
       "      <th></th>\n",
       "      <th>state</th>\n",
       "      <th>city</th>\n",
       "      <th>segment_gender</th>\n",
       "      <th>age</th>\n",
       "      <th>age_gr_1</th>\n",
       "      <th>age_gr_2</th>\n",
       "      <th>arpu_segment</th>\n",
       "      <th>bucket_tr</th>\n",
       "      <th>mb_2g_flg</th>\n",
       "      <th>os_name</th>\n",
       "      <th>cpe_type_name</th>\n",
       "      <th>lt_day</th>\n",
       "      <th>base_type</th>\n",
       "      <th>lt_gr_1</th>\n",
       "      <th>lt_gr_2</th>\n",
       "      <th>csi</th>\n",
       "      <th>csi_category</th>\n",
       "      <th>csi_key</th>\n",
       "    </tr>\n",
       "  </thead>\n",
       "  <tbody>\n",
       "    <tr>\n",
       "      <th>0</th>\n",
       "      <td>Michigan</td>\n",
       "      <td>Detroit</td>\n",
       "      <td>1</td>\n",
       "      <td>45</td>\n",
       "      <td>05 45-54</td>\n",
       "      <td>04 36-45</td>\n",
       "      <td>Medium</td>\n",
       "      <td>04 1-5</td>\n",
       "      <td>1</td>\n",
       "      <td>ANDROID</td>\n",
       "      <td>SMARTPHONE</td>\n",
       "      <td>2320</td>\n",
       "      <td>0</td>\n",
       "      <td>08 36+</td>\n",
       "      <td>03 36+</td>\n",
       "      <td>10</td>\n",
       "      <td>happy</td>\n",
       "      <td>1</td>\n",
       "    </tr>\n",
       "    <tr>\n",
       "      <th>1</th>\n",
       "      <td>California</td>\n",
       "      <td>Fresno</td>\n",
       "      <td>0</td>\n",
       "      <td>53</td>\n",
       "      <td>05 45-54</td>\n",
       "      <td>06 51-55</td>\n",
       "      <td>Medium</td>\n",
       "      <td>04 1-5</td>\n",
       "      <td>0</td>\n",
       "      <td>ANDROID</td>\n",
       "      <td>SMARTPHONE</td>\n",
       "      <td>2344</td>\n",
       "      <td>0</td>\n",
       "      <td>08 36+</td>\n",
       "      <td>03 36+</td>\n",
       "      <td>10</td>\n",
       "      <td>happy</td>\n",
       "      <td>1</td>\n",
       "    </tr>\n",
       "    <tr>\n",
       "      <th>2</th>\n",
       "      <td>New York</td>\n",
       "      <td>New York</td>\n",
       "      <td>0</td>\n",
       "      <td>57</td>\n",
       "      <td>06 55-64</td>\n",
       "      <td>07 55 +</td>\n",
       "      <td>High</td>\n",
       "      <td>08 20-25</td>\n",
       "      <td>0</td>\n",
       "      <td>ANDROID</td>\n",
       "      <td>SMARTPHONE</td>\n",
       "      <td>467</td>\n",
       "      <td>0</td>\n",
       "      <td>06 13-24</td>\n",
       "      <td>02 13-36</td>\n",
       "      <td>10</td>\n",
       "      <td>happy</td>\n",
       "      <td>1</td>\n",
       "    </tr>\n",
       "  </tbody>\n",
       "</table>\n",
       "</div>"
      ],
      "text/plain": [
       "        state      city  segment_gender  age  age_gr_1  age_gr_2 arpu_segment  \\\n",
       "0    Michigan   Detroit               1   45  05 45-54  04 36-45       Medium   \n",
       "1  California    Fresno               0   53  05 45-54  06 51-55       Medium   \n",
       "2    New York  New York               0   57  06 55-64   07 55 +         High   \n",
       "\n",
       "  bucket_tr  mb_2g_flg  os_name cpe_type_name  lt_day  base_type   lt_gr_1  \\\n",
       "0    04 1-5          1  ANDROID    SMARTPHONE    2320          0    08 36+   \n",
       "1    04 1-5          0  ANDROID    SMARTPHONE    2344          0    08 36+   \n",
       "2  08 20-25          0  ANDROID    SMARTPHONE     467          0  06 13-24   \n",
       "\n",
       "    lt_gr_2  csi csi_category  csi_key  \n",
       "0    03 36+   10        happy        1  \n",
       "1    03 36+   10        happy        1  \n",
       "2  02 13-36   10        happy        1  "
      ]
     },
     "execution_count": 41,
     "metadata": {},
     "output_type": "execute_result"
    }
   ],
   "source": [
    "df_dropped_dup.head(3)"
   ]
  },
  {
   "cell_type": "markdown",
   "metadata": {},
   "source": [
    "### Сколько клиентов используют устаревшие операционные системы на своих устройствах?"
   ]
  },
  {
   "cell_type": "code",
   "execution_count": 42,
   "metadata": {},
   "outputs": [
    {
     "data": {
      "text/plain": [
       "ANDROID           435781\n",
       "IOS                60047\n",
       "PROPRIETARY         2491\n",
       "OTHER               2394\n",
       "WINDOWS PHONE       1297\n",
       "unknown              133\n",
       "SYMBIAN OS           103\n",
       "BADA OS               40\n",
       "WINDOWS MOBILE         3\n",
       "Name: os_name, dtype: int64"
      ]
     },
     "execution_count": 42,
     "metadata": {},
     "output_type": "execute_result"
    }
   ],
   "source": [
    "df_dropped_dup['os_name'].value_counts()"
   ]
  },
  {
   "cell_type": "markdown",
   "metadata": {},
   "source": [
    "В интернете можем найти информацию о современных и устаревших ОС для телефона на текущий момент в мире. \n",
    "\"Современные операционные системы для мобильных устройств: Android, Kai OS, Lineage OS, Fire OS, Flyme OS, iOS, Sailfish OS, Tizen, Remix OS. Устаревшие, ныне не поддерживаемые программные платформы: Windows 10 Mobile, Symbian, Windows Mobile, Palm OS, webOS, Maemo, MeeGo, LiMo, BlackBerry OS, Firefox OS, Ubuntu Touch, Bada OS.\" - Ссылка на источник https://ru.wikipedia.org/wiki/Мобильная_операционная_система\n",
    "\n",
    "Из соверменных ОС, в датасете представлены: ANDROID и IOS. Из устаревших: WINDOWS PHONE, SYMBIAN OS, BADA OS и WINDOWS MOBILE.\n",
    "Есть также OTHER, unknown и PROPRIETARY - сюда входят другие ОС, которые не были представлены ранее, неизвестные ОС и частные ОС. Остнесём их в категорию - другие.\n",
    "\n",
    "Теперь посчитаем количество клиентов, которые исплоьзуют современные, устаревшие и другие ОС. \n",
    "- Современные: 495828 - 98.71%\n",
    "- Устаревшие: 1443 - 0.28%\n",
    "- Другие: 5018 - 0.99%"
   ]
  },
  {
   "cell_type": "markdown",
   "metadata": {},
   "source": [
    "### Опишите разницу в распределениях значений столбцов age_gr_1 и age_gr_2"
   ]
  },
  {
   "cell_type": "code",
   "execution_count": 43,
   "metadata": {},
   "outputs": [
    {
     "data": {
      "text/plain": [
       "Index(['01 до 16', '02 16-24', '03 25-34', '04 35-44', '05 45-54', '06 55-64',\n",
       "       '07 66 +', '08 n/a'],\n",
       "      dtype='object')"
      ]
     },
     "execution_count": 43,
     "metadata": {},
     "output_type": "execute_result"
    }
   ],
   "source": [
    "df_dropped_dup['age_gr_1'].value_counts().index.sort_values()"
   ]
  },
  {
   "cell_type": "code",
   "execution_count": 44,
   "metadata": {},
   "outputs": [
    {
     "data": {
      "text/plain": [
       "Index(['01 до 15', '02 16-20', '03 21-35', '04 36-45', '05 46-50', '06 51-55',\n",
       "       '07 55 +', '08 n/a'],\n",
       "      dtype='object')"
      ]
     },
     "execution_count": 44,
     "metadata": {},
     "output_type": "execute_result"
    }
   ],
   "source": [
    "df_dropped_dup['age_gr_2'].value_counts().index.sort_values()"
   ]
  },
  {
   "cell_type": "markdown",
   "metadata": {},
   "source": [
    "Мы ранее рассматривали эти столбцы и пришли к выводу, что здесь использовали разные сегменты возврастом. Возможно, чтобы понять, клиентов каких возрастов определить в той или иной группе. От этого зависит их покупательская способность. В интернете есть примеры таких определениях таких сегментаций. Если на их основе попытаться разделить текущие сегменты, то получим следующее:\n",
    "- 1 - 16/ 1 - 15 - дети\n",
    "- 16 - 24/16 - 20 - молодежь\n",
    "- 25 - 34/21 - 35 - экономически активное население, самостоятельно принимающее решение о покупке товаров (без детей или с невзрослыми детьми)\n",
    "- 35 - 44/36 - 45 - экономически активное население (В большинстве своем семейные люди с уже сформированным уровнем достатка и социальным классом. На модель покупательского поведения начинают оказывать влияние дети)\n",
    "- 45 - 54/46 - 50 - экономически активное население (Их социальный уровень и доход полностью сформированы. Дети данной группы достаточно взрослые и не влияют на модель покупательского поведения. В поведении данной группы начинают проявляться личные интересы и цели, удовлетворения которых ни не смогли добиться в более раннем возрасте)\n",
    "- 55 - 64/ 51 - 55 - возрослые люди, которые близки к песионному возврасту и уже с взрослыми детьми\n",
    "- 66 +/55 + -  возрастная группа образует людей пенсионного возраста, не имеющих высокого уровня заработка\n"
   ]
  },
  {
   "cell_type": "markdown",
   "metadata": {},
   "source": [
    "### Какой процент штатов США охватывают данные?"
   ]
  },
  {
   "cell_type": "code",
   "execution_count": 45,
   "metadata": {},
   "outputs": [
    {
     "data": {
      "text/plain": [
       "Index(['California', 'Texas', 'New York', 'Illinois', 'Arizona',\n",
       "       'Pennsylvania', 'Florida', 'Ohio', 'Tennessee', 'North Carolina',\n",
       "       'Michigan', 'Colorado', 'Indiana', 'Oklahoma', 'Missouri', 'Maryland',\n",
       "       'Massachusetts', 'Wisconsin', 'Washington', 'Columbia', 'Nevada',\n",
       "       'Oregon', 'Kentucky', 'Georgia', 'New Mexico', 'Nebraska', 'Virginia',\n",
       "       'Minnesota', 'Hawaii', 'Kansas', 'Louisiana'],\n",
       "      dtype='object')"
      ]
     },
     "execution_count": 45,
     "metadata": {},
     "output_type": "execute_result"
    }
   ],
   "source": [
    "df_dropped_dup['state'].value_counts().index"
   ]
  },
  {
   "cell_type": "code",
   "execution_count": 46,
   "metadata": {},
   "outputs": [],
   "source": [
    "states_list = ['Alabama', 'Alaska', 'Arizona', 'Arkansas', 'California', 'Colorado', 'Connecticut', 'Delaware', 'Florida',\n",
    "'Georgia', 'Hawaii', 'Idaho', 'Illinois', 'Indiana', 'Iowa', 'Kansas', 'Kentucky', 'Louisiana', 'Maine', 'Maryland', \n",
    "'Massachusetts', 'Michigan', 'Minnesota', 'Mississippi', 'Missouri', 'Montana', 'Nebraska', 'Nevada','New Hampshire',\n",
    "'New Jersey', 'New Mexico', 'New York', 'North Carolina', 'North Dakota', 'Ohio', 'Oklahoma', 'Oregon', 'Pennsylvania', 'Rhode Island', \n",
    "'South Carolina', 'South Dakota', 'Tennessee', 'Texas', 'Utah', 'Vermont', 'Virginia', 'Washington', 'West Virginia', 'Wisconsin', 'Wyoming']"
   ]
  },
  {
   "cell_type": "code",
   "execution_count": 47,
   "metadata": {},
   "outputs": [],
   "source": [
    "states_in_data = ['California', 'Texas', 'New York', 'Illinois', 'Arizona',\n",
    "       'Pennsylvania', 'Florida', 'Ohio', 'Tennessee', 'North Carolina',\n",
    "       'Michigan', 'Colorado', 'Indiana', 'Oklahoma', 'Missouri', 'Maryland',\n",
    "       'Massachusetts', 'Wisconsin', 'Washington', 'Columbia', 'Nevada',\n",
    "       'Oregon', 'Kentucky', 'Georgia', 'New Mexico', 'Nebraska', 'Virginia',\n",
    "       'Minnesota', 'Hawaii', 'Kansas', 'Louisiana']"
   ]
  },
  {
   "cell_type": "code",
   "execution_count": 48,
   "metadata": {},
   "outputs": [
    {
     "data": {
      "text/plain": [
       "30"
      ]
     },
     "execution_count": 48,
     "metadata": {},
     "output_type": "execute_result"
    }
   ],
   "source": [
    "counter = 0\n",
    "for i in states_in_data:\n",
    "    if i in states_list:\n",
    "        counter = counter + 1\n",
    "counter        "
   ]
  },
  {
   "cell_type": "code",
   "execution_count": 49,
   "metadata": {},
   "outputs": [
    {
     "data": {
      "text/plain": [
       "California        0.187416\n",
       "Texas             0.164553\n",
       "New York          0.131454\n",
       "Illinois          0.052942\n",
       "Arizona           0.051361\n",
       "Pennsylvania      0.046115\n",
       "Florida           0.034775\n",
       "Ohio              0.032471\n",
       "Tennessee         0.027681\n",
       "North Carolina    0.024428\n",
       "Michigan          0.023857\n",
       "Colorado          0.022137\n",
       "Indiana           0.019909\n",
       "Oklahoma          0.016793\n",
       "Missouri          0.014902\n",
       "Maryland          0.012614\n",
       "Massachusetts     0.012566\n",
       "Wisconsin         0.012347\n",
       "Washington        0.011256\n",
       "Columbia          0.010759\n",
       "Nevada            0.010615\n",
       "Oregon            0.010337\n",
       "Kentucky          0.010231\n",
       "Georgia           0.009905\n",
       "New Mexico        0.009853\n",
       "Nebraska          0.009114\n",
       "Virginia          0.008123\n",
       "Minnesota         0.006604\n",
       "Hawaii            0.006534\n",
       "Kansas            0.005788\n",
       "Louisiana         0.002560\n",
       "Name: state, dtype: float64"
      ]
     },
     "execution_count": 49,
     "metadata": {},
     "output_type": "execute_result"
    }
   ],
   "source": [
    "df_dropped_dup['state'].value_counts(normalize=True)"
   ]
  },
  {
   "cell_type": "markdown",
   "metadata": {},
   "source": [
    "Данные в датасете охватывают 60% штатов США, то есть 30 штатов из 50. Как мы видели ранее, ,ольше всего данных о пользователей представлены из штатов California (почти 19%), Texas (чуть больше 16%) и New York (13%), а меньше всего из Louisiana(0,25%) и Kansas(примерно 0,6%)."
   ]
  }
 ],
 "metadata": {
  "kernelspec": {
   "display_name": "Python 3",
   "language": "python",
   "name": "python3"
  },
  "language_info": {
   "codemirror_mode": {
    "name": "ipython",
    "version": 3
   },
   "file_extension": ".py",
   "mimetype": "text/x-python",
   "name": "python",
   "nbconvert_exporter": "python",
   "pygments_lexer": "ipython3",
   "version": "3.8.5"
  }
 },
 "nbformat": 4,
 "nbformat_minor": 4
}
